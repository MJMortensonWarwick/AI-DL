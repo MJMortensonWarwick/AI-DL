{
  "nbformat": 4,
  "nbformat_minor": 0,
  "metadata": {
    "colab": {
      "name": "Untitled0.ipynb",
      "provenance": [],
      "authorship_tag": "ABX9TyMe5eQSCzOzRQ4oec69zC5l",
      "include_colab_link": true
    },
    "kernelspec": {
      "name": "python3",
      "display_name": "Python 3"
    },
    "language_info": {
      "name": "python"
    },
    "accelerator": "GPU"
  },
  "cells": [
    {
      "cell_type": "markdown",
      "metadata": {
        "id": "view-in-github",
        "colab_type": "text"
      },
      "source": [
        "<a href=\"https://colab.research.google.com/github/MJMortensonWarwick/AI-DL/blob/main/2_1_convolutional_neural_network.ipynb\" target=\"_parent\"><img src=\"https://colab.research.google.com/assets/colab-badge.svg\" alt=\"Open In Colab\"/></a>"
      ]
    },
    {
      "cell_type": "code",
      "source": [
        "from google.colab import files\n",
        "files.upload()"
      ],
      "metadata": {
        "id": "LHG_Y_YFFeEF"
      },
      "execution_count": null,
      "outputs": []
    },
    {
      "cell_type": "code",
      "source": [
        "!mkdir -p ~/.kaggle\n",
        "!cp kaggle.json ~/.kaggle/\n",
        "!chmod 600 /root/.kaggle/kaggle.json"
      ],
      "metadata": {
        "id": "pU043sJiFjet"
      },
      "execution_count": 2,
      "outputs": []
    },
    {
      "cell_type": "code",
      "execution_count": 3,
      "metadata": {
        "colab": {
          "base_uri": "https://localhost:8080/"
        },
        "id": "048YVK6TChZV",
        "outputId": "93414ea8-b82e-41c0-bd8e-6cd391fee456"
      },
      "outputs": [
        {
          "output_type": "stream",
          "name": "stdout",
          "text": [
            "Downloading chest-xray-pneumonia.zip to /content\n",
            "100% 2.29G/2.29G [00:10<00:00, 226MB/s]\n",
            "100% 2.29G/2.29G [00:10<00:00, 245MB/s]\n"
          ]
        }
      ],
      "source": [
        "!kaggle datasets download -d paultimothymooney/chest-xray-pneumonia"
      ]
    },
    {
      "cell_type": "code",
      "source": [
        "!unzip chest-xray-pneumonia.zip -d chest-xray-pneumonia"
      ],
      "metadata": {
        "id": "pf7pLBawF3e0"
      },
      "execution_count": null,
      "outputs": []
    },
    {
      "cell_type": "code",
      "source": [
        "train_dir = \"/content/chest-xray-pneumonia/chest_xray/train\"\n",
        "test_dir = \"/content/chest-xray-pneumonia/chest_xray/test\"\n",
        "val_dir = \"/content/chest-xray-pneumonia/chest_xray/val\""
      ],
      "metadata": {
        "id": "yOQLobhOZsI3"
      },
      "execution_count": 5,
      "outputs": []
    },
    {
      "cell_type": "code",
      "source": [
        "!pip install Augmentor"
      ],
      "metadata": {
        "colab": {
          "base_uri": "https://localhost:8080/"
        },
        "id": "CR7UOjFSGl9r",
        "outputId": "5f02d8ad-b1cd-4786-a8ac-82eb2e83db8d"
      },
      "execution_count": 6,
      "outputs": [
        {
          "output_type": "stream",
          "name": "stdout",
          "text": [
            "Collecting Augmentor\n",
            "  Downloading Augmentor-0.2.9-py2.py3-none-any.whl (38 kB)\n",
            "Requirement already satisfied: tqdm>=4.9.0 in /usr/local/lib/python3.7/dist-packages (from Augmentor) (4.63.0)\n",
            "Requirement already satisfied: Pillow>=5.2.0 in /usr/local/lib/python3.7/dist-packages (from Augmentor) (7.1.2)\n",
            "Requirement already satisfied: future>=0.16.0 in /usr/local/lib/python3.7/dist-packages (from Augmentor) (0.16.0)\n",
            "Requirement already satisfied: numpy>=1.11.0 in /usr/local/lib/python3.7/dist-packages (from Augmentor) (1.21.5)\n",
            "Installing collected packages: Augmentor\n",
            "Successfully installed Augmentor-0.2.9\n"
          ]
        }
      ]
    },
    {
      "cell_type": "code",
      "source": [
        "train_datagen = ImageDataGenerator(rotation_range = 30,\n",
        "                                   zoom_range = 0.2,\n",
        "                                   width_shift_range = 0.1,\n",
        "                                   height_shift_range = 0.1,\n",
        "                                   horizontal_flip = True,\n",
        "                                   rescale = 1./255)\n",
        "val_datagen = ImageDataGenerator(rescale = 1./255)\n",
        "test_datagen = ImageDataGenerator(rescale = 1./255)"
      ],
      "metadata": {
        "colab": {
          "base_uri": "https://localhost:8080/",
          "height": 235
        },
        "id": "jO5TafUH1d1n",
        "outputId": "c9a156c8-763f-429a-8dc9-3d16baf6024c"
      },
      "execution_count": 7,
      "outputs": [
        {
          "output_type": "error",
          "ename": "NameError",
          "evalue": "ignored",
          "traceback": [
            "\u001b[0;31m---------------------------------------------------------------------------\u001b[0m",
            "\u001b[0;31mNameError\u001b[0m                                 Traceback (most recent call last)",
            "\u001b[0;32m<ipython-input-7-059409ab9f42>\u001b[0m in \u001b[0;36m<module>\u001b[0;34m()\u001b[0m\n\u001b[0;32m----> 1\u001b[0;31m train_datagen = ImageDataGenerator(rotation_range = 30,\n\u001b[0m\u001b[1;32m      2\u001b[0m                                    \u001b[0mzoom_range\u001b[0m \u001b[0;34m=\u001b[0m \u001b[0;36m0.2\u001b[0m\u001b[0;34m,\u001b[0m\u001b[0;34m\u001b[0m\u001b[0;34m\u001b[0m\u001b[0m\n\u001b[1;32m      3\u001b[0m                                    \u001b[0mwidth_shift_range\u001b[0m \u001b[0;34m=\u001b[0m \u001b[0;36m0.1\u001b[0m\u001b[0;34m,\u001b[0m\u001b[0;34m\u001b[0m\u001b[0;34m\u001b[0m\u001b[0m\n\u001b[1;32m      4\u001b[0m                                    \u001b[0mheight_shift_range\u001b[0m \u001b[0;34m=\u001b[0m \u001b[0;36m0.1\u001b[0m\u001b[0;34m,\u001b[0m\u001b[0;34m\u001b[0m\u001b[0;34m\u001b[0m\u001b[0m\n\u001b[1;32m      5\u001b[0m                                    \u001b[0mhorizontal_flip\u001b[0m \u001b[0;34m=\u001b[0m \u001b[0;32mTrue\u001b[0m\u001b[0;34m,\u001b[0m\u001b[0;34m\u001b[0m\u001b[0;34m\u001b[0m\u001b[0m\n",
            "\u001b[0;31mNameError\u001b[0m: name 'ImageDataGenerator' is not defined"
          ]
        }
      ]
    },
    {
      "cell_type": "code",
      "source": [
        "batch_size = 16\n",
        "training_set = train_datagen.flow_from_directory(train_dir,\n",
        "                                                 target_size = (64, 64), \n",
        "                                                 batch_size = batch_size, \n",
        "                                                 class_mode = \"binary\")\n",
        "val_set = val_datagen.flow_from_directory(val_dir,\n",
        "                                          target_size = (64, 64),\n",
        "                                          batch_size = batch_size,\n",
        "                                          class_mode = 'binary')\n",
        "test_set = test_datagen.flow_from_directory(test_dir,\n",
        "                                            target_size = (64, 64),\n",
        "                                            batch_size = batch_size,\n",
        "                                            class_mode = 'binary')"
      ],
      "metadata": {
        "id": "97-mr-zZZ5ys"
      },
      "execution_count": null,
      "outputs": []
    },
    {
      "cell_type": "code",
      "source": [
        "from keras.models import Sequential \n",
        "from keras.layers import Dense, Dropout, Flatten, BatchNormalization\n",
        "from keras.layers import Conv2D, MaxPooling2D \n",
        "\n",
        "cnn = Sequential()"
      ],
      "metadata": {
        "id": "Mr2QKKhWa67K"
      },
      "execution_count": null,
      "outputs": []
    },
    {
      "cell_type": "code",
      "source": [
        "cnn.add(Conv2D(filters=32, kernel_size=3, activation='relu', input_shape=(64, 64, 3)))\n",
        "cnn.add(BatchNormalization())\n",
        "cnn.add(MaxPooling2D(pool_size=2, strides=2, padding='SAME'))\n",
        "cnn.add(Conv2D(filters=64, kernel_size=3, activation='relu'))\n",
        "cnn.add(BatchNormalization())\n",
        "cnn.add(MaxPooling2D(pool_size=2, strides=2, padding='SAME'))\n",
        "cnn.add(Flatten())\n",
        "cnn.add(Dense(64, activation='relu'))\n",
        "cnn.add(Dropout(0.25))\n",
        "cnn.add(Dense(1, activation='sigmoid'))"
      ],
      "metadata": {
        "id": "zdzRvTSQvrR7"
      },
      "execution_count": null,
      "outputs": []
    },
    {
      "cell_type": "code",
      "source": [
        "cnn.summary()"
      ],
      "metadata": {
        "id": "_IlHEQuEv94K"
      },
      "execution_count": null,
      "outputs": []
    },
    {
      "cell_type": "code",
      "source": [
        "from keras import losses\n",
        "\n",
        "cnn.compile(optimizer = 'adam', \n",
        "            loss = losses.BinaryCrossentropy(), \n",
        "            metrics = ['Recall'])\n",
        "\n",
        "history = cnn.fit(training_set, validation_data = val_set, epochs = 10)"
      ],
      "metadata": {
        "id": "QOsv91bPwNMC"
      },
      "execution_count": null,
      "outputs": []
    },
    {
      "cell_type": "code",
      "source": [
        "import matplotlib.pyplot as plt\n",
        "\n",
        "plt.plot(history.history['recall'], label='recall')\n",
        "plt.plot(history.history['val_recall'], label = 'val_recall')\n",
        "plt.xlabel('Epoch')\n",
        "plt.ylabel('Recall')\n",
        "plt.ylim([0.5, 1])\n",
        "plt.legend(loc='lower right')"
      ],
      "metadata": {
        "id": "n0imJ0dF903y"
      },
      "execution_count": null,
      "outputs": []
    },
    {
      "cell_type": "code",
      "source": [
        "test_loss, test_recall = cnn.evaluate(test_set)"
      ],
      "metadata": {
        "id": "hj6T_9_A-jtn"
      },
      "execution_count": null,
      "outputs": []
    },
    {
      "cell_type": "code",
      "source": [
        ""
      ],
      "metadata": {
        "id": "dCV2j7jq-x4L"
      },
      "execution_count": null,
      "outputs": []
    }
  ]
}