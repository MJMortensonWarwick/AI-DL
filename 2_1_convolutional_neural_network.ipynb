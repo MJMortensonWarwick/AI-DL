{
  "nbformat": 4,
  "nbformat_minor": 0,
  "metadata": {
    "colab": {
      "name": "Untitled0.ipynb",
      "provenance": [],
      "authorship_tag": "ABX9TyPONQ5+g50GM7cTO5g/cOJL",
      "include_colab_link": true
    },
    "kernelspec": {
      "name": "python3",
      "display_name": "Python 3"
    },
    "language_info": {
      "name": "python"
    },
    "accelerator": "GPU"
  },
  "cells": [
    {
      "cell_type": "markdown",
      "metadata": {
        "id": "view-in-github",
        "colab_type": "text"
      },
      "source": [
        "<a href=\"https://colab.research.google.com/github/MJMortensonWarwick/AI-DL/blob/main/2_1_convolutional_neural_network.ipynb\" target=\"_parent\"><img src=\"https://colab.research.google.com/assets/colab-badge.svg\" alt=\"Open In Colab\"/></a>"
      ]
    },
    {
      "cell_type": "markdown",
      "source": [
        "# Convolutional Neural Networks\n",
        "This tutorial will walk through a CNN in Keras. We will be working with a chest x-ray set from Kaggle ([here](https://www.kaggle.com/paultimothymooney/chest-xray-pneumonia)) where we are predicting whether a paitent has pneumonia or not. \n",
        "\n",
        "To get the data we need an API key from Kaggle. Set up an account (if you haven't got one already) and then click on your avatar in the top right and \"Account\" from the dropdown menu. Scroll down the page and you'll find a button to \"Create New API Token\". This downloads an API key to your PC which you can upload here."
      ],
      "metadata": {
        "id": "X6oownATtXqZ"
      }
    },
    {
      "cell_type": "code",
      "source": [
        "from google.colab import files\n",
        "files.upload()"
      ],
      "metadata": {
        "id": "LHG_Y_YFFeEF"
      },
      "execution_count": null,
      "outputs": []
    },
    {
      "cell_type": "markdown",
      "source": [
        "Next we need to move this to a folder called kaggle as this is where Colab will look (Linux commands): "
      ],
      "metadata": {
        "id": "iBOOZx3Kuey-"
      }
    },
    {
      "cell_type": "code",
      "source": [
        "!mkdir -p ~/.kaggle\n",
        "!cp kaggle.json ~/.kaggle/\n",
        "!chmod 600 /root/.kaggle/kaggle.json"
      ],
      "metadata": {
        "id": "pU043sJiFjet"
      },
      "execution_count": 2,
      "outputs": []
    },
    {
      "cell_type": "markdown",
      "source": [
        "Now you can download the data. The following can be used for any Kaggle dataset. When you are on the dataset page click the three vertical dots on the right and select \"Copy API command\". This gives you code that looks like below (but add a \"!\" at the start):"
      ],
      "metadata": {
        "id": "EPsEVPNyuoo4"
      }
    },
    {
      "cell_type": "code",
      "execution_count": 3,
      "metadata": {
        "colab": {
          "base_uri": "https://localhost:8080/"
        },
        "id": "048YVK6TChZV",
        "outputId": "163dd723-a80c-4a58-d743-dfbffb7f0d6f"
      },
      "outputs": [
        {
          "output_type": "stream",
          "name": "stdout",
          "text": [
            "Downloading chest-xray-pneumonia.zip to /content\n",
            " 99% 2.28G/2.29G [00:10<00:00, 221MB/s]\n",
            "100% 2.29G/2.29G [00:10<00:00, 229MB/s]\n"
          ]
        }
      ],
      "source": [
        "!kaggle datasets download -d paultimothymooney/chest-xray-pneumonia"
      ]
    },
    {
      "cell_type": "markdown",
      "source": [
        "This has added the data as a zip folder. We can unzip it and create a new folder (Linux again):"
      ],
      "metadata": {
        "id": "yddDe7JWvFEY"
      }
    },
    {
      "cell_type": "code",
      "source": [
        "!unzip chest-xray-pneumonia.zip -d chest-xray-pneumonia"
      ],
      "metadata": {
        "id": "pf7pLBawF3e0"
      },
      "execution_count": null,
      "outputs": []
    },
    {
      "cell_type": "markdown",
      "source": [
        "For ease we will create some variables to store the path to the directories:"
      ],
      "metadata": {
        "id": "NSE9XpymvNeS"
      }
    },
    {
      "cell_type": "code",
      "source": [
        "train_dir = \"/content/chest-xray-pneumonia/chest_xray/train\"\n",
        "test_dir = \"/content/chest-xray-pneumonia/chest_xray/test\"\n",
        "val_dir = \"/content/chest-xray-pneumonia/chest_xray/val\""
      ],
      "metadata": {
        "id": "yOQLobhOZsI3"
      },
      "execution_count": 5,
      "outputs": []
    },
    {
      "cell_type": "markdown",
      "source": [
        "Now we can add a generator to create augmentations. For test and validation we just want to normalise (divide by 255 pixels):"
      ],
      "metadata": {
        "id": "xbsVBVhIvSom"
      }
    },
    {
      "cell_type": "code",
      "source": [
        "from keras.preprocessing.image import ImageDataGenerator\n",
        "\n",
        "train_datagen = ImageDataGenerator(rotation_range = 30,\n",
        "                                   zoom_range = 0.2,\n",
        "                                   width_shift_range = 0.1,\n",
        "                                   height_shift_range = 0.1,\n",
        "                                   horizontal_flip = True,\n",
        "                                   rescale = 1./255)\n",
        "val_datagen = ImageDataGenerator(rescale = 1./255)\n",
        "test_datagen = ImageDataGenerator(rescale = 1./255)"
      ],
      "metadata": {
        "id": "jO5TafUH1d1n"
      },
      "execution_count": 7,
      "outputs": []
    },
    {
      "cell_type": "markdown",
      "source": [
        "Finally we can create our dataset variables with a batch size of 16. We'll also shrink down the images to 64x64 pixels:"
      ],
      "metadata": {
        "id": "W6CX02TeveDr"
      }
    },
    {
      "cell_type": "code",
      "source": [
        "batch_size = 16\n",
        "training_set = train_datagen.flow_from_directory(train_dir,\n",
        "                                                 target_size = (64, 64), \n",
        "                                                 batch_size = batch_size, \n",
        "                                                 class_mode = \"binary\")\n",
        "val_set = val_datagen.flow_from_directory(val_dir,\n",
        "                                          target_size = (64, 64),\n",
        "                                          batch_size = batch_size,\n",
        "                                          class_mode = 'binary')\n",
        "test_set = test_datagen.flow_from_directory(test_dir,\n",
        "                                            target_size = (64, 64),\n",
        "                                            batch_size = batch_size,\n",
        "                                            class_mode = 'binary')"
      ],
      "metadata": {
        "id": "97-mr-zZZ5ys",
        "colab": {
          "base_uri": "https://localhost:8080/"
        },
        "outputId": "9aa1c9df-a71e-455e-8649-53980599697b"
      },
      "execution_count": 8,
      "outputs": [
        {
          "output_type": "stream",
          "name": "stdout",
          "text": [
            "Found 5216 images belonging to 2 classes.\n",
            "Found 16 images belonging to 2 classes.\n",
            "Found 624 images belonging to 2 classes.\n"
          ]
        }
      ]
    },
    {
      "cell_type": "markdown",
      "source": [
        "Noew we can build our model:"
      ],
      "metadata": {
        "id": "8S2rBMlQvpHE"
      }
    },
    {
      "cell_type": "code",
      "source": [
        "from keras.models import Sequential \n",
        "from keras.layers import Dense, Dropout, Flatten, BatchNormalization\n",
        "from keras.layers import Conv2D, MaxPooling2D \n",
        "\n",
        "cnn = Sequential()"
      ],
      "metadata": {
        "id": "Mr2QKKhWa67K"
      },
      "execution_count": 9,
      "outputs": []
    },
    {
      "cell_type": "code",
      "source": [
        "cnn.add(Conv2D(filters=32, kernel_size=3, activation='relu', input_shape=(64, 64, 3)))\n",
        "cnn.add(BatchNormalization())\n",
        "cnn.add(MaxPooling2D(pool_size=2, strides=2, padding='SAME'))\n",
        "cnn.add(Conv2D(filters=64, kernel_size=3, activation='relu'))\n",
        "cnn.add(BatchNormalization())\n",
        "cnn.add(MaxPooling2D(pool_size=2, strides=2, padding='SAME'))\n",
        "cnn.add(Flatten())\n",
        "cnn.add(Dense(64, activation='relu'))\n",
        "cnn.add(Dropout(0.25))\n",
        "cnn.add(Dense(1, activation='sigmoid'))"
      ],
      "metadata": {
        "id": "zdzRvTSQvrR7"
      },
      "execution_count": 10,
      "outputs": []
    },
    {
      "cell_type": "code",
      "source": [
        "cnn.summary()"
      ],
      "metadata": {
        "id": "_IlHEQuEv94K",
        "colab": {
          "base_uri": "https://localhost:8080/"
        },
        "outputId": "bca39223-5cd8-4b5e-930e-318185644420"
      },
      "execution_count": 11,
      "outputs": [
        {
          "output_type": "stream",
          "name": "stdout",
          "text": [
            "Model: \"sequential\"\n",
            "_________________________________________________________________\n",
            " Layer (type)                Output Shape              Param #   \n",
            "=================================================================\n",
            " conv2d (Conv2D)             (None, 62, 62, 32)        896       \n",
            "                                                                 \n",
            " batch_normalization (BatchN  (None, 62, 62, 32)       128       \n",
            " ormalization)                                                   \n",
            "                                                                 \n",
            " max_pooling2d (MaxPooling2D  (None, 31, 31, 32)       0         \n",
            " )                                                               \n",
            "                                                                 \n",
            " conv2d_1 (Conv2D)           (None, 29, 29, 64)        18496     \n",
            "                                                                 \n",
            " batch_normalization_1 (Batc  (None, 29, 29, 64)       256       \n",
            " hNormalization)                                                 \n",
            "                                                                 \n",
            " max_pooling2d_1 (MaxPooling  (None, 15, 15, 64)       0         \n",
            " 2D)                                                             \n",
            "                                                                 \n",
            " flatten (Flatten)           (None, 14400)             0         \n",
            "                                                                 \n",
            " dense (Dense)               (None, 64)                921664    \n",
            "                                                                 \n",
            " dropout (Dropout)           (None, 64)                0         \n",
            "                                                                 \n",
            " dense_1 (Dense)             (None, 1)                 65        \n",
            "                                                                 \n",
            "=================================================================\n",
            "Total params: 941,505\n",
            "Trainable params: 941,313\n",
            "Non-trainable params: 192\n",
            "_________________________________________________________________\n"
          ]
        }
      ]
    },
    {
      "cell_type": "markdown",
      "source": [
        "Nearly a million parameters to learn! We better get busy:"
      ],
      "metadata": {
        "id": "Agm_F6Ievs3u"
      }
    },
    {
      "cell_type": "code",
      "source": [
        "from keras import losses\n",
        "\n",
        "cnn.compile(optimizer = 'adam', \n",
        "            loss = losses.BinaryCrossentropy(), \n",
        "            metrics = ['Recall'])\n",
        "\n",
        "history = cnn.fit(training_set, validation_data = val_set, epochs = 10)"
      ],
      "metadata": {
        "id": "QOsv91bPwNMC",
        "colab": {
          "base_uri": "https://localhost:8080/"
        },
        "outputId": "6ab067ad-8d28-424b-8288-ca14d63b8784"
      },
      "execution_count": 12,
      "outputs": [
        {
          "output_type": "stream",
          "name": "stdout",
          "text": [
            "Epoch 1/10\n",
            "326/326 [==============================] - 83s 210ms/step - loss: 0.3960 - recall: 0.8988 - val_loss: 5.1821 - val_recall: 1.0000\n",
            "Epoch 2/10\n",
            "326/326 [==============================] - 67s 207ms/step - loss: 0.2798 - recall: 0.9117 - val_loss: 0.6460 - val_recall: 0.7500\n",
            "Epoch 3/10\n",
            "326/326 [==============================] - 67s 207ms/step - loss: 0.2603 - recall: 0.9280 - val_loss: 1.0121 - val_recall: 0.0000e+00\n",
            "Epoch 4/10\n",
            "326/326 [==============================] - 68s 210ms/step - loss: 0.2636 - recall: 0.9257 - val_loss: 4.8764 - val_recall: 0.0000e+00\n",
            "Epoch 5/10\n",
            "326/326 [==============================] - 68s 208ms/step - loss: 0.2241 - recall: 0.9404 - val_loss: 0.6945 - val_recall: 1.0000\n",
            "Epoch 6/10\n",
            "326/326 [==============================] - 67s 206ms/step - loss: 0.2065 - recall: 0.9445 - val_loss: 2.6282 - val_recall: 1.0000\n",
            "Epoch 7/10\n",
            "326/326 [==============================] - 67s 207ms/step - loss: 0.2192 - recall: 0.9417 - val_loss: 0.7418 - val_recall: 0.3750\n",
            "Epoch 8/10\n",
            "326/326 [==============================] - 67s 207ms/step - loss: 0.2017 - recall: 0.9427 - val_loss: 0.6133 - val_recall: 0.3750\n",
            "Epoch 9/10\n",
            "326/326 [==============================] - 69s 213ms/step - loss: 0.1965 - recall: 0.9499 - val_loss: 2.1258 - val_recall: 0.0000e+00\n",
            "Epoch 10/10\n",
            "326/326 [==============================] - 69s 210ms/step - loss: 0.2023 - recall: 0.9517 - val_loss: 0.9239 - val_recall: 0.2500\n"
          ]
        }
      ]
    },
    {
      "cell_type": "markdown",
      "source": [
        "Let's visualise the results:"
      ],
      "metadata": {
        "id": "4Stqkqz8vyaT"
      }
    },
    {
      "cell_type": "code",
      "source": [
        "import matplotlib.pyplot as plt\n",
        "\n",
        "plt.plot(history.history['recall'], label='recall')\n",
        "plt.plot(history.history['val_recall'], label = 'val_recall')\n",
        "plt.xlabel('Epoch')\n",
        "plt.ylabel('Recall')\n",
        "plt.ylim([0.5, 1])\n",
        "plt.legend(loc='lower right')"
      ],
      "metadata": {
        "id": "n0imJ0dF903y",
        "colab": {
          "base_uri": "https://localhost:8080/",
          "height": 300
        },
        "outputId": "02c030c1-9156-4003-f2ef-40f5b84b9036"
      },
      "execution_count": 13,
      "outputs": [
        {
          "output_type": "execute_result",
          "data": {
            "text/plain": [
              "<matplotlib.legend.Legend at 0x7f74002c0050>"
            ]
          },
          "metadata": {},
          "execution_count": 13
        },
        {
          "output_type": "display_data",
          "data": {
            "text/plain": [
              "<Figure size 432x288 with 1 Axes>"
            ],
            "image/png": "[encoded data removed]"
          },
          "metadata": {
            "needs_background": "light"
          }
        }
      ]
    },
    {
      "cell_type": "markdown",
      "source": [
        "We can see recall on the training set has steadily improved. On the validation set its all over the place but then that's only 16 images. Let's see how we do on test:"
      ],
      "metadata": {
        "id": "d3PkH6Mxv12T"
      }
    },
    {
      "cell_type": "code",
      "source": [
        "test_loss, test_recall = cnn.evaluate(test_set)"
      ],
      "metadata": {
        "id": "hj6T_9_A-jtn",
        "colab": {
          "base_uri": "https://localhost:8080/"
        },
        "outputId": "df5c094b-b9ba-4274-9484-7e40a5a0b0a0"
      },
      "execution_count": 14,
      "outputs": [
        {
          "output_type": "stream",
          "name": "stdout",
          "text": [
            "39/39 [==============================] - 6s 163ms/step - loss: 0.7300 - recall: 0.4769\n"
          ]
        }
      ]
    },
    {
      "cell_type": "markdown",
      "source": [
        "Only 48%. Our model probably needs more work (training) but we have a result at least and that's all we need right now! 🍺"
      ],
      "metadata": {
        "id": "UXoMUScAwBdy"
      }
    }
  ]
}