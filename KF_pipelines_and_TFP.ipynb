{
  "nbformat": 4,
  "nbformat_minor": 0,
  "metadata": {
    "colab": {
      "name": "KF_pipelines_and_TFP.ipynb",
      "provenance": [],
      "collapsed_sections": [],
      "include_colab_link": true
    },
    "kernelspec": {
      "display_name": "Python 3",
      "name": "python3"
    },
    "language_info": {
      "name": "python"
    }
  },
  "cells": [
    {
      "cell_type": "markdown",
      "metadata": {
        "id": "view-in-github",
        "colab_type": "text"
      },
      "source": [
        "<a href=\"https://colab.research.google.com/github/MJMortensonWarwick/AI-DL/blob/main/KF_pipelines_and_TFP.ipynb\" target=\"_parent\"><img src=\"https://colab.research.google.com/assets/colab-badge.svg\" alt=\"Open In Colab\"/></a>"
      ]
    },
    {
      "cell_type": "code",
      "metadata": {
        "id": "iXDk02sFYgJy"
      },
      "source": [
        "# Adapted from the Github link below"
      ],
      "execution_count": null,
      "outputs": []
    },
    {
      "cell_type": "markdown",
      "metadata": {
        "id": "QZo6Stv1Z2Nf"
      },
      "source": [
        "<table align=\"left\">\n",
        "\n",
        "  <td>\n",
        "    <a href=\"https://colab.research.google.com/github/kubeflow/pipelines/blob/master/components/google-cloud/google_cloud_pipeline_components/experimental/tensorflow_probability/anomaly_detection/tfp_anomaly_detection.ipynb\"\">\n",
        "      <img src=\"https://cloud.google.com/ml-engine/images/colab-logo-32px.png\" alt=\"Colab logo\"> Run in Colab\n",
        "    </a>\n",
        "  </td>\n",
        "  <td>\n",
        "    <a href=\"https://github.com/kubeflow/pipelines/blob/master/components/google-cloud/google_cloud_pipeline_components/experimental/tensorflow_probability/anomaly_detection/tfp_anomaly_detection.ipynb\">\n",
        "      <img src=\"https://cloud.google.com/ml-engine/images/github-logo-32px.png\" alt=\"GitHub logo\">\n",
        "      View on GitHub\n",
        "    </a>\n",
        "  </td>\n",
        "</table>"
      ]
    },
    {
      "cell_type": "markdown",
      "metadata": {
        "id": "YRvy0UhwcjOm"
      },
      "source": [
        "# Anomaly Detection with TensorFlow Probability STS on Kubeflow Pipelines"
      ]
    },
    {
      "cell_type": "markdown",
      "metadata": {
        "id": "0oCL7T67aa02"
      },
      "source": [
        "## Overview\n",
        "\n",
        "This notebook demonstrates how to use [TensorFlow Probability](https://www.tensorflow.org/probability) and [Kubeflow Pipelines](https://www.kubeflow.org/docs/components/pipelines/) for anomaly detection in time series data. It uses structural time series (STS), a class of Bayesian statistical models, to decompose a time series into interpretable seasonal and trend components. This algorithm fits an STS model to the time series, generates a forecast of acceptable values for each timestep, and flags any points outside of the forecast as an anomaly. To learn more about STS models, check out this demo on [Structural Time Series Modeling Case Studies](https://www.tensorflow.org/probability/examples/Structural_Time_Series_Modeling_Case_Studies_Atmospheric_CO2_and_Electricity_Demand).\n",
        "\n",
        "This demo is used here to demonstrate the use of Kubeflow pipelines (a part of the overall Kubeflow architecture) and Vertex AI solutions.\n",
        "\n",
        "### Dataset\n",
        "\n",
        "This demo uses [nyc_taxi.csv](https://github.com/numenta/NAB/blob/d2854d17a3feb9e143b1e9a715c5af67da2c1888/data/realKnownCause/nyc_taxi.csv) which reports the total number of passengers in NYC taxis from July 2014 to January 2015 in 30-minute increments.\n",
        "\n",
        "### Objective\n",
        "\n",
        "You will go through the following steps: \n",
        "* Define and launch an anomaly detection algorithm on Kubeflow Pipelines.\n",
        "* Retrieve and visualize results.\n",
        "* Benchmark predictions using the Numenta Anomaly Benchmark scoring method.\n",
        "\n",
        "### Costs\n",
        "This tutorial uses billable components of Google Cloud:\n",
        "\n",
        "* Vertex AI\n",
        "* Cloud Storage"
      ]
    },
    {
      "cell_type": "markdown",
      "metadata": {
        "id": "i7EUnXsZhAGF"
      },
      "source": [
        "### Install additional packages\n",
        "\n",
        "Install additional package dependencies not installed in your notebook environment."
      ]
    },
    {
      "cell_type": "code",
      "metadata": {
        "id": "2b4ef9b72d43"
      },
      "source": [
        "import os\n",
        "\n",
        "# The Google Cloud Notebook product has specific requirements\n",
        "IS_GOOGLE_CLOUD_NOTEBOOK = os.path.exists(\"/opt/deeplearning/metadata/env_version\")\n",
        "\n",
        "# Google Cloud Notebook requires dependencies to be installed with '--user'\n",
        "USER_FLAG = \"\"\n",
        "if IS_GOOGLE_CLOUD_NOTEBOOK:\n",
        "    USER_FLAG = \"--user\""
      ],
      "execution_count": null,
      "outputs": []
    },
    {
      "cell_type": "code",
      "metadata": {
        "id": "8EO5Ar64fidZ",
        "colab": {
          "base_uri": "https://localhost:8080/",
          "height": 1000
        },
        "outputId": "4192470d-0b4e-493d-9878-5cb8a9425469"
      },
      "source": [
        "! pip3 install {USER_FLAG} --upgrade kfp\n",
        "! pip3 install {USER_FLAG} --upgrade google-cloud-pipeline-components\n",
        "! pip3 install {USER_FLAG} --upgrade tensorflow\n",
        "! pip3 install {USER_FLAG} --upgrade matplotlib\n",
        "! pip3 install {USER_FLAG} --upgrade numpy\n",
        "! pip3 install {USER_FLAG} --upgrade pandas"
      ],
      "execution_count": null,
      "outputs": [
        {
          "output_type": "stream",
          "name": "stdout",
          "text": [
            "Looking in indexes: https://pypi.org/simple, https://us-python.pkg.dev/colab-wheels/public/simple/\n",
            "Collecting kfp\n",
            "  Downloading kfp-1.8.12.tar.gz (301 kB)\n",
            "\u001b[K     |████████████████████████████████| 301 kB 4.3 MB/s \n",
            "\u001b[?25hRequirement already satisfied: absl-py<2,>=0.9 in /usr/local/lib/python3.7/dist-packages (from kfp) (1.0.0)\n",
            "Collecting PyYAML<6,>=5.3\n",
            "  Downloading PyYAML-5.4.1-cp37-cp37m-manylinux1_x86_64.whl (636 kB)\n",
            "\u001b[K     |████████████████████████████████| 636 kB 15.3 MB/s \n",
            "\u001b[?25hRequirement already satisfied: google-api-core!=2.0.*,!=2.1.*,!=2.2.*,!=2.3.0,<3.0.0dev,>=1.31.5 in /usr/local/lib/python3.7/dist-packages (from kfp) (1.31.5)\n",
            "Collecting google-cloud-storage<2,>=1.20.0\n",
            "  Downloading google_cloud_storage-1.44.0-py2.py3-none-any.whl (106 kB)\n",
            "\u001b[K     |████████████████████████████████| 106 kB 35.9 MB/s \n",
            "\u001b[?25hCollecting kubernetes<19,>=8.0.0\n",
            "  Downloading kubernetes-18.20.0-py2.py3-none-any.whl (1.6 MB)\n",
            "\u001b[K     |████████████████████████████████| 1.6 MB 20.3 MB/s \n",
            "\u001b[?25hRequirement already satisfied: google-api-python-client<2,>=1.7.8 in /usr/local/lib/python3.7/dist-packages (from kfp) (1.12.11)\n",
            "Requirement already satisfied: google-auth<2,>=1.6.1 in /usr/local/lib/python3.7/dist-packages (from kfp) (1.35.0)\n",
            "Collecting requests-toolbelt<1,>=0.8.0\n",
            "  Downloading requests_toolbelt-0.9.1-py2.py3-none-any.whl (54 kB)\n",
            "\u001b[K     |████████████████████████████████| 54 kB 1.7 MB/s \n",
            "\u001b[?25hCollecting cloudpickle<3,>=2.0.0\n",
            "  Downloading cloudpickle-2.1.0-py3-none-any.whl (25 kB)\n",
            "Collecting kfp-server-api<2.0.0,>=1.1.2\n",
            "  Downloading kfp-server-api-1.8.1.tar.gz (54 kB)\n",
            "\u001b[K     |████████████████████████████████| 54 kB 1.8 MB/s \n",
            "\u001b[?25hCollecting jsonschema<4,>=3.0.1\n",
            "  Downloading jsonschema-3.2.0-py2.py3-none-any.whl (56 kB)\n",
            "\u001b[K     |████████████████████████████████| 56 kB 1.7 MB/s \n",
            "\u001b[?25hRequirement already satisfied: tabulate<1,>=0.8.6 in /usr/local/lib/python3.7/dist-packages (from kfp) (0.8.9)\n",
            "Requirement already satisfied: click<9,>=7.1.2 in /usr/local/lib/python3.7/dist-packages (from kfp) (7.1.2)\n",
            "Collecting Deprecated<2,>=1.2.7\n",
            "  Downloading Deprecated-1.2.13-py2.py3-none-any.whl (9.6 kB)\n",
            "Collecting strip-hints<1,>=0.1.8\n",
            "  Downloading strip-hints-0.1.10.tar.gz (29 kB)\n",
            "Collecting docstring-parser<1,>=0.7.3\n",
            "  Downloading docstring_parser-0.14.1-py3-none-any.whl (33 kB)\n",
            "Collecting kfp-pipeline-spec<0.2.0,>=0.1.14\n",
            "  Downloading kfp_pipeline_spec-0.1.15-py3-none-any.whl (11 kB)\n",
            "Collecting fire<1,>=0.3.1\n",
            "  Downloading fire-0.4.0.tar.gz (87 kB)\n",
            "\u001b[K     |████████████████████████████████| 87 kB 5.6 MB/s \n",
            "\u001b[?25hRequirement already satisfied: protobuf<4,>=3.13.0 in /usr/local/lib/python3.7/dist-packages (from kfp) (3.17.3)\n",
            "Requirement already satisfied: uritemplate<4,>=3.0.1 in /usr/local/lib/python3.7/dist-packages (from kfp) (3.0.1)\n",
            "Collecting pydantic<2,>=1.8.2\n",
            "  Downloading pydantic-1.9.1-cp37-cp37m-manylinux_2_17_x86_64.manylinux2014_x86_64.whl (11.1 MB)\n",
            "\u001b[K     |████████████████████████████████| 11.1 MB 36.8 MB/s \n",
            "\u001b[?25hCollecting typer<1.0,>=0.3.2\n",
            "  Downloading typer-0.4.1-py3-none-any.whl (27 kB)\n",
            "Collecting typing-extensions<4,>=3.7.4\n",
            "  Downloading typing_extensions-3.10.0.2-py3-none-any.whl (26 kB)\n",
            "Requirement already satisfied: six in /usr/local/lib/python3.7/dist-packages (from absl-py<2,>=0.9->kfp) (1.15.0)\n",
            "Requirement already satisfied: wrapt<2,>=1.10 in /usr/local/lib/python3.7/dist-packages (from Deprecated<2,>=1.2.7->kfp) (1.14.1)\n",
            "Requirement already satisfied: termcolor in /usr/local/lib/python3.7/dist-packages (from fire<1,>=0.3.1->kfp) (1.1.0)\n",
            "Requirement already satisfied: packaging>=14.3 in /usr/local/lib/python3.7/dist-packages (from google-api-core!=2.0.*,!=2.1.*,!=2.2.*,!=2.3.0,<3.0.0dev,>=1.31.5->kfp) (21.3)\n",
            "Requirement already satisfied: requests<3.0.0dev,>=2.18.0 in /usr/local/lib/python3.7/dist-packages (from google-api-core!=2.0.*,!=2.1.*,!=2.2.*,!=2.3.0,<3.0.0dev,>=1.31.5->kfp) (2.23.0)\n",
            "Requirement already satisfied: googleapis-common-protos<2.0dev,>=1.6.0 in /usr/local/lib/python3.7/dist-packages (from google-api-core!=2.0.*,!=2.1.*,!=2.2.*,!=2.3.0,<3.0.0dev,>=1.31.5->kfp) (1.56.1)\n",
            "Requirement already satisfied: setuptools>=40.3.0 in /usr/local/lib/python3.7/dist-packages (from google-api-core!=2.0.*,!=2.1.*,!=2.2.*,!=2.3.0,<3.0.0dev,>=1.31.5->kfp) (57.4.0)\n",
            "Requirement already satisfied: pytz in /usr/local/lib/python3.7/dist-packages (from google-api-core!=2.0.*,!=2.1.*,!=2.2.*,!=2.3.0,<3.0.0dev,>=1.31.5->kfp) (2022.1)\n",
            "Requirement already satisfied: httplib2<1dev,>=0.15.0 in /usr/local/lib/python3.7/dist-packages (from google-api-python-client<2,>=1.7.8->kfp) (0.17.4)\n",
            "Requirement already satisfied: google-auth-httplib2>=0.0.3 in /usr/local/lib/python3.7/dist-packages (from google-api-python-client<2,>=1.7.8->kfp) (0.0.4)\n",
            "Requirement already satisfied: cachetools<5.0,>=2.0.0 in /usr/local/lib/python3.7/dist-packages (from google-auth<2,>=1.6.1->kfp) (4.2.4)\n",
            "Requirement already satisfied: pyasn1-modules>=0.2.1 in /usr/local/lib/python3.7/dist-packages (from google-auth<2,>=1.6.1->kfp) (0.2.8)\n",
            "Requirement already satisfied: rsa<5,>=3.1.4 in /usr/local/lib/python3.7/dist-packages (from google-auth<2,>=1.6.1->kfp) (4.8)\n",
            "Collecting google-cloud-core<3.0dev,>=1.6.0\n",
            "  Downloading google_cloud_core-2.3.0-py2.py3-none-any.whl (29 kB)\n",
            "Collecting google-resumable-media<3.0dev,>=1.3.0\n",
            "  Downloading google_resumable_media-2.3.3-py2.py3-none-any.whl (76 kB)\n",
            "\u001b[K     |████████████████████████████████| 76 kB 2.5 MB/s \n",
            "\u001b[?25hCollecting google-crc32c<2.0dev,>=1.0\n",
            "  Downloading google_crc32c-1.3.0-cp37-cp37m-manylinux_2_12_x86_64.manylinux2010_x86_64.whl (38 kB)\n",
            "Requirement already satisfied: pyrsistent>=0.14.0 in /usr/local/lib/python3.7/dist-packages (from jsonschema<4,>=3.0.1->kfp) (0.18.1)\n",
            "Requirement already satisfied: attrs>=17.4.0 in /usr/local/lib/python3.7/dist-packages (from jsonschema<4,>=3.0.1->kfp) (21.4.0)\n",
            "Requirement already satisfied: importlib-metadata in /usr/local/lib/python3.7/dist-packages (from jsonschema<4,>=3.0.1->kfp) (4.11.3)\n",
            "Requirement already satisfied: urllib3>=1.15 in /usr/local/lib/python3.7/dist-packages (from kfp-server-api<2.0.0,>=1.1.2->kfp) (1.24.3)\n",
            "Requirement already satisfied: certifi in /usr/local/lib/python3.7/dist-packages (from kfp-server-api<2.0.0,>=1.1.2->kfp) (2022.5.18.1)\n",
            "Requirement already satisfied: python-dateutil in /usr/local/lib/python3.7/dist-packages (from kfp-server-api<2.0.0,>=1.1.2->kfp) (2.8.2)\n",
            "Collecting websocket-client!=0.40.0,!=0.41.*,!=0.42.*,>=0.32.0\n",
            "  Downloading websocket_client-1.3.2-py3-none-any.whl (54 kB)\n",
            "\u001b[K     |████████████████████████████████| 54 kB 1.8 MB/s \n",
            "\u001b[?25hRequirement already satisfied: requests-oauthlib in /usr/local/lib/python3.7/dist-packages (from kubernetes<19,>=8.0.0->kfp) (1.3.1)\n",
            "Requirement already satisfied: pyparsing!=3.0.5,>=2.0.2 in /usr/local/lib/python3.7/dist-packages (from packaging>=14.3->google-api-core!=2.0.*,!=2.1.*,!=2.2.*,!=2.3.0,<3.0.0dev,>=1.31.5->kfp) (3.0.9)\n",
            "Requirement already satisfied: pyasn1<0.5.0,>=0.4.6 in /usr/local/lib/python3.7/dist-packages (from pyasn1-modules>=0.2.1->google-auth<2,>=1.6.1->kfp) (0.4.8)\n",
            "Requirement already satisfied: chardet<4,>=3.0.2 in /usr/local/lib/python3.7/dist-packages (from requests<3.0.0dev,>=2.18.0->google-api-core!=2.0.*,!=2.1.*,!=2.2.*,!=2.3.0,<3.0.0dev,>=1.31.5->kfp) (3.0.4)\n",
            "Requirement already satisfied: idna<3,>=2.5 in /usr/local/lib/python3.7/dist-packages (from requests<3.0.0dev,>=2.18.0->google-api-core!=2.0.*,!=2.1.*,!=2.2.*,!=2.3.0,<3.0.0dev,>=1.31.5->kfp) (2.10)\n",
            "Requirement already satisfied: wheel in /usr/local/lib/python3.7/dist-packages (from strip-hints<1,>=0.1.8->kfp) (0.37.1)\n",
            "Requirement already satisfied: zipp>=0.5 in /usr/local/lib/python3.7/dist-packages (from importlib-metadata->jsonschema<4,>=3.0.1->kfp) (3.8.0)\n",
            "Requirement already satisfied: oauthlib>=3.0.0 in /usr/local/lib/python3.7/dist-packages (from requests-oauthlib->kubernetes<19,>=8.0.0->kfp) (3.2.0)\n",
            "Building wheels for collected packages: kfp, fire, kfp-server-api, strip-hints\n",
            "  Building wheel for kfp (setup.py) ... \u001b[?25l\u001b[?25hdone\n",
            "  Created wheel for kfp: filename=kfp-1.8.12-py3-none-any.whl size=419048 sha256=cac6c5be19ff4cab427fb69f213b326be48e9680cfb0307cefc7b4f0954b3dfe\n",
            "  Stored in directory: /root/.cache/pip/wheels/54/0c/4a/3fc55077bc88cc17eacaae34c5fd3f6178c1d16d2ee3b0afdf\n",
            "  Building wheel for fire (setup.py) ... \u001b[?25l\u001b[?25hdone\n",
            "  Created wheel for fire: filename=fire-0.4.0-py2.py3-none-any.whl size=115942 sha256=16d8b81d9973ce283ce18772cd823ba0b7ecc6bbafb40bb84f52b41eee475009\n",
            "  Stored in directory: /root/.cache/pip/wheels/8a/67/fb/2e8a12fa16661b9d5af1f654bd199366799740a85c64981226\n",
            "  Building wheel for kfp-server-api (setup.py) ... \u001b[?25l\u001b[?25hdone\n",
            "  Created wheel for kfp-server-api: filename=kfp_server_api-1.8.1-py3-none-any.whl size=95549 sha256=e87a7967720e5772adc5750790def2912be0c306eaea7a9e7e1d50de037e70ae\n",
            "  Stored in directory: /root/.cache/pip/wheels/f5/4e/2e/6795bd3ed456a43652e7de100aca275ec179c9a8dfbcc65626\n",
            "  Building wheel for strip-hints (setup.py) ... \u001b[?25l\u001b[?25hdone\n",
            "  Created wheel for strip-hints: filename=strip_hints-0.1.10-py2.py3-none-any.whl size=22302 sha256=bbc5419beeedfe251e303b62d170c1049309915047f5266e6d3596c265d35414\n",
            "  Stored in directory: /root/.cache/pip/wheels/5e/14/c3/6e44e9b2545f2d570b03f5b6d38c00b7534aa8abb376978363\n",
            "Successfully built kfp fire kfp-server-api strip-hints\n",
            "Installing collected packages: typing-extensions, google-crc32c, websocket-client, PyYAML, google-resumable-media, google-cloud-core, typer, strip-hints, requests-toolbelt, pydantic, kubernetes, kfp-server-api, kfp-pipeline-spec, jsonschema, google-cloud-storage, fire, docstring-parser, Deprecated, cloudpickle, kfp\n",
            "  Attempting uninstall: typing-extensions\n",
            "    Found existing installation: typing-extensions 4.2.0\n",
            "    Uninstalling typing-extensions-4.2.0:\n",
            "      Successfully uninstalled typing-extensions-4.2.0\n",
            "  Attempting uninstall: PyYAML\n",
            "    Found existing installation: PyYAML 3.13\n",
            "    Uninstalling PyYAML-3.13:\n",
            "      Successfully uninstalled PyYAML-3.13\n",
            "  Attempting uninstall: google-resumable-media\n",
            "    Found existing installation: google-resumable-media 0.4.1\n",
            "    Uninstalling google-resumable-media-0.4.1:\n",
            "      Successfully uninstalled google-resumable-media-0.4.1\n",
            "  Attempting uninstall: google-cloud-core\n",
            "    Found existing installation: google-cloud-core 1.0.3\n",
            "    Uninstalling google-cloud-core-1.0.3:\n",
            "      Successfully uninstalled google-cloud-core-1.0.3\n",
            "  Attempting uninstall: jsonschema\n",
            "    Found existing installation: jsonschema 4.3.3\n",
            "    Uninstalling jsonschema-4.3.3:\n",
            "      Successfully uninstalled jsonschema-4.3.3\n",
            "  Attempting uninstall: google-cloud-storage\n",
            "    Found existing installation: google-cloud-storage 1.18.1\n",
            "    Uninstalling google-cloud-storage-1.18.1:\n",
            "      Successfully uninstalled google-cloud-storage-1.18.1\n",
            "  Attempting uninstall: cloudpickle\n",
            "    Found existing installation: cloudpickle 1.3.0\n",
            "    Uninstalling cloudpickle-1.3.0:\n",
            "      Successfully uninstalled cloudpickle-1.3.0\n",
            "\u001b[31mERROR: pip's dependency resolver does not currently take into account all the packages that are installed. This behaviour is the source of the following dependency conflicts.\n",
            "tensorflow 2.8.0+zzzcolab20220506162203 requires tf-estimator-nightly==2.8.0.dev2021122109, which is not installed.\n",
            "nbclient 0.6.3 requires jupyter-client>=6.1.5, but you have jupyter-client 5.3.5 which is incompatible.\n",
            "gym 0.17.3 requires cloudpickle<1.7.0,>=1.2.0, but you have cloudpickle 2.1.0 which is incompatible.\n",
            "google-cloud-translate 1.5.0 requires google-cloud-core<2.0dev,>=1.0.0, but you have google-cloud-core 2.3.0 which is incompatible.\n",
            "google-cloud-firestore 1.7.0 requires google-cloud-core<2.0dev,>=1.0.3, but you have google-cloud-core 2.3.0 which is incompatible.\n",
            "google-cloud-datastore 1.8.0 requires google-cloud-core<2.0dev,>=1.0.0, but you have google-cloud-core 2.3.0 which is incompatible.\n",
            "google-cloud-bigquery 1.21.0 requires google-cloud-core<2.0dev,>=1.0.3, but you have google-cloud-core 2.3.0 which is incompatible.\n",
            "google-cloud-bigquery 1.21.0 requires google-resumable-media!=0.4.0,<0.5.0dev,>=0.3.1, but you have google-resumable-media 2.3.3 which is incompatible.\u001b[0m\n",
            "Successfully installed Deprecated-1.2.13 PyYAML-5.4.1 cloudpickle-2.1.0 docstring-parser-0.14.1 fire-0.4.0 google-cloud-core-2.3.0 google-cloud-storage-1.44.0 google-crc32c-1.3.0 google-resumable-media-2.3.3 jsonschema-3.2.0 kfp-1.8.12 kfp-pipeline-spec-0.1.15 kfp-server-api-1.8.1 kubernetes-18.20.0 pydantic-1.9.1 requests-toolbelt-0.9.1 strip-hints-0.1.10 typer-0.4.1 typing-extensions-3.10.0.2 websocket-client-1.3.2\n"
          ]
        },
        {
          "output_type": "display_data",
          "data": {
            "application/vnd.colab-display-data+json": {
              "pip_warning": {
                "packages": [
                  "google",
                  "typing_extensions"
                ]
              }
            }
          },
          "metadata": {}
        },
        {
          "output_type": "stream",
          "name": "stdout",
          "text": [
            "Looking in indexes: https://pypi.org/simple, https://us-python.pkg.dev/colab-wheels/public/simple/\n",
            "Collecting google-cloud-pipeline-components\n",
            "  Downloading google_cloud_pipeline_components-1.0.7-py3-none-any.whl (460 kB)\n",
            "\u001b[K     |████████████████████████████████| 460 kB 4.2 MB/s \n",
            "\u001b[?25hCollecting google-cloud-aiplatform<2,>=1.11.0\n",
            "  Downloading google_cloud_aiplatform-1.13.0-py2.py3-none-any.whl (1.8 MB)\n",
            "\u001b[K     |████████████████████████████████| 1.8 MB 48.3 MB/s \n",
            "\u001b[?25hCollecting google-cloud-notebooks>=0.4.0\n",
            "  Downloading google_cloud_notebooks-1.3.1-py2.py3-none-any.whl (353 kB)\n",
            "\u001b[K     |████████████████████████████████| 353 kB 60.5 MB/s \n",
            "\u001b[?25hRequirement already satisfied: kfp<2.0.0,>=1.8.9 in /usr/local/lib/python3.7/dist-packages (from google-cloud-pipeline-components) (1.8.12)\n",
            "Requirement already satisfied: google-api-core!=2.0.*,!=2.1.*,!=2.2.*,!=2.3.0,<3.0.0dev,>=1.31.5 in /usr/local/lib/python3.7/dist-packages (from google-cloud-pipeline-components) (1.31.5)\n",
            "Requirement already satisfied: google-cloud-storage<2,>=1.20.0 in /usr/local/lib/python3.7/dist-packages (from google-cloud-pipeline-components) (1.44.0)\n",
            "Requirement already satisfied: requests<3.0.0dev,>=2.18.0 in /usr/local/lib/python3.7/dist-packages (from google-api-core!=2.0.*,!=2.1.*,!=2.2.*,!=2.3.0,<3.0.0dev,>=1.31.5->google-cloud-pipeline-components) (2.23.0)\n",
            "Requirement already satisfied: protobuf>=3.12.0 in /usr/local/lib/python3.7/dist-packages (from google-api-core!=2.0.*,!=2.1.*,!=2.2.*,!=2.3.0,<3.0.0dev,>=1.31.5->google-cloud-pipeline-components) (3.17.3)\n",
            "Requirement already satisfied: six>=1.13.0 in /usr/local/lib/python3.7/dist-packages (from google-api-core!=2.0.*,!=2.1.*,!=2.2.*,!=2.3.0,<3.0.0dev,>=1.31.5->google-cloud-pipeline-components) (1.15.0)\n",
            "Requirement already satisfied: google-auth<2.0dev,>=1.25.0 in /usr/local/lib/python3.7/dist-packages (from google-api-core!=2.0.*,!=2.1.*,!=2.2.*,!=2.3.0,<3.0.0dev,>=1.31.5->google-cloud-pipeline-components) (1.35.0)\n",
            "Requirement already satisfied: googleapis-common-protos<2.0dev,>=1.6.0 in /usr/local/lib/python3.7/dist-packages (from google-api-core!=2.0.*,!=2.1.*,!=2.2.*,!=2.3.0,<3.0.0dev,>=1.31.5->google-cloud-pipeline-components) (1.56.1)\n",
            "Requirement already satisfied: setuptools>=40.3.0 in /usr/local/lib/python3.7/dist-packages (from google-api-core!=2.0.*,!=2.1.*,!=2.2.*,!=2.3.0,<3.0.0dev,>=1.31.5->google-cloud-pipeline-components) (57.4.0)\n",
            "Requirement already satisfied: pytz in /usr/local/lib/python3.7/dist-packages (from google-api-core!=2.0.*,!=2.1.*,!=2.2.*,!=2.3.0,<3.0.0dev,>=1.31.5->google-cloud-pipeline-components) (2022.1)\n",
            "Requirement already satisfied: packaging>=14.3 in /usr/local/lib/python3.7/dist-packages (from google-api-core!=2.0.*,!=2.1.*,!=2.2.*,!=2.3.0,<3.0.0dev,>=1.31.5->google-cloud-pipeline-components) (21.3)\n",
            "Requirement already satisfied: cachetools<5.0,>=2.0.0 in /usr/local/lib/python3.7/dist-packages (from google-auth<2.0dev,>=1.25.0->google-api-core!=2.0.*,!=2.1.*,!=2.2.*,!=2.3.0,<3.0.0dev,>=1.31.5->google-cloud-pipeline-components) (4.2.4)\n",
            "Requirement already satisfied: pyasn1-modules>=0.2.1 in /usr/local/lib/python3.7/dist-packages (from google-auth<2.0dev,>=1.25.0->google-api-core!=2.0.*,!=2.1.*,!=2.2.*,!=2.3.0,<3.0.0dev,>=1.31.5->google-cloud-pipeline-components) (0.2.8)\n",
            "Requirement already satisfied: rsa<5,>=3.1.4 in /usr/local/lib/python3.7/dist-packages (from google-auth<2.0dev,>=1.25.0->google-api-core!=2.0.*,!=2.1.*,!=2.2.*,!=2.3.0,<3.0.0dev,>=1.31.5->google-cloud-pipeline-components) (4.8)\n",
            "Requirement already satisfied: google-cloud-bigquery<3.0.0dev,>=1.15.0 in /usr/local/lib/python3.7/dist-packages (from google-cloud-aiplatform<2,>=1.11.0->google-cloud-pipeline-components) (1.21.0)\n",
            "Collecting proto-plus>=1.15.0\n",
            "  Downloading proto_plus-1.20.4-py3-none-any.whl (46 kB)\n",
            "\u001b[K     |████████████████████████████████| 46 kB 3.3 MB/s \n",
            "\u001b[?25hCollecting google-cloud-resource-manager<3.0.0dev,>=1.3.3\n",
            "  Downloading google_cloud_resource_manager-1.5.0-py2.py3-none-any.whl (230 kB)\n",
            "\u001b[K     |████████████████████████████████| 230 kB 46.0 MB/s \n",
            "\u001b[?25hRequirement already satisfied: grpcio<2.0dev,>=1.29.0 in /usr/local/lib/python3.7/dist-packages (from google-api-core!=2.0.*,!=2.1.*,!=2.2.*,!=2.3.0,<3.0.0dev,>=1.31.5->google-cloud-pipeline-components) (1.46.1)\n",
            "Collecting google-cloud-core<2.0dev,>=1.0.3\n",
            "  Downloading google_cloud_core-1.7.2-py2.py3-none-any.whl (28 kB)\n",
            "Collecting google-resumable-media!=0.4.0,<0.5.0dev,>=0.3.1\n",
            "  Downloading google_resumable_media-0.4.1-py2.py3-none-any.whl (38 kB)\n",
            "Collecting grpc-google-iam-v1<1.0.0dev,>=0.12.3\n",
            "  Downloading grpc_google_iam_v1-0.12.4-py2.py3-none-any.whl (26 kB)\n",
            "Collecting google-cloud-storage<2,>=1.20.0\n",
            "  Downloading google_cloud_storage-1.43.0-py2.py3-none-any.whl (106 kB)\n",
            "\u001b[K     |████████████████████████████████| 106 kB 43.8 MB/s \n",
            "\u001b[?25h  Downloading google_cloud_storage-1.42.3-py2.py3-none-any.whl (105 kB)\n",
            "\u001b[K     |████████████████████████████████| 105 kB 50.3 MB/s \n",
            "\u001b[?25h  Downloading google_cloud_storage-1.42.2-py2.py3-none-any.whl (105 kB)\n",
            "\u001b[K     |████████████████████████████████| 105 kB 48.1 MB/s \n",
            "\u001b[?25h  Downloading google_cloud_storage-1.42.1-py2.py3-none-any.whl (105 kB)\n",
            "\u001b[K     |████████████████████████████████| 105 kB 48.3 MB/s \n",
            "\u001b[?25h  Downloading google_cloud_storage-1.42.0-py2.py3-none-any.whl (105 kB)\n",
            "\u001b[K     |████████████████████████████████| 105 kB 40.1 MB/s \n",
            "\u001b[?25h  Downloading google_cloud_storage-1.41.1-py2.py3-none-any.whl (105 kB)\n",
            "\u001b[K     |████████████████████████████████| 105 kB 35.8 MB/s \n",
            "\u001b[?25h  Downloading google_cloud_storage-1.41.0-py2.py3-none-any.whl (104 kB)\n",
            "\u001b[K     |████████████████████████████████| 104 kB 49.0 MB/s \n",
            "\u001b[?25h  Downloading google_cloud_storage-1.40.0-py2.py3-none-any.whl (104 kB)\n",
            "\u001b[K     |████████████████████████████████| 104 kB 49.1 MB/s \n",
            "\u001b[?25h  Downloading google_cloud_storage-1.39.0-py2.py3-none-any.whl (103 kB)\n",
            "\u001b[K     |████████████████████████████████| 103 kB 39.9 MB/s \n",
            "\u001b[?25h  Downloading google_cloud_storage-1.38.0-py2.py3-none-any.whl (103 kB)\n",
            "\u001b[K     |████████████████████████████████| 103 kB 43.2 MB/s \n",
            "\u001b[?25h  Downloading google_cloud_storage-1.37.1-py2.py3-none-any.whl (103 kB)\n",
            "\u001b[K     |████████████████████████████████| 103 kB 40.4 MB/s \n",
            "\u001b[?25h  Downloading google_cloud_storage-1.37.0-py2.py3-none-any.whl (103 kB)\n",
            "\u001b[K     |████████████████████████████████| 103 kB 39.9 MB/s \n",
            "\u001b[?25h  Downloading google_cloud_storage-1.36.2-py2.py3-none-any.whl (97 kB)\n",
            "\u001b[K     |████████████████████████████████| 97 kB 5.2 MB/s \n",
            "\u001b[?25h  Downloading google_cloud_storage-1.36.1-py2.py3-none-any.whl (97 kB)\n",
            "\u001b[K     |████████████████████████████████| 97 kB 5.4 MB/s \n",
            "\u001b[?25h  Downloading google_cloud_storage-1.36.0-py2.py3-none-any.whl (97 kB)\n",
            "\u001b[K     |████████████████████████████████| 97 kB 5.7 MB/s \n",
            "\u001b[?25h  Downloading google_cloud_storage-1.35.1-py2.py3-none-any.whl (96 kB)\n",
            "\u001b[K     |████████████████████████████████| 96 kB 4.8 MB/s \n",
            "\u001b[?25h  Downloading google_cloud_storage-1.35.0-py2.py3-none-any.whl (96 kB)\n",
            "\u001b[K     |████████████████████████████████| 96 kB 4.9 MB/s \n",
            "\u001b[?25h  Downloading google_cloud_storage-1.34.0-py2.py3-none-any.whl (96 kB)\n",
            "\u001b[K     |████████████████████████████████| 96 kB 4.9 MB/s \n",
            "\u001b[?25h  Downloading google_cloud_storage-1.33.0-py2.py3-none-any.whl (92 kB)\n",
            "\u001b[K     |████████████████████████████████| 92 kB 9.8 MB/s \n",
            "\u001b[?25h  Downloading google_cloud_storage-1.32.0-py2.py3-none-any.whl (92 kB)\n",
            "\u001b[K     |████████████████████████████████| 92 kB 9.7 MB/s \n",
            "\u001b[?25hINFO: pip is looking at multiple versions of google-cloud-resource-manager to determine which version is compatible with other requirements. This could take a while.\n",
            "Collecting google-cloud-resource-manager<3.0.0dev,>=1.3.3\n",
            "  Downloading google_cloud_resource_manager-1.4.1-py2.py3-none-any.whl (402 kB)\n",
            "\u001b[K     |████████████████████████████████| 402 kB 39.5 MB/s \n",
            "\u001b[?25h  Downloading google_cloud_resource_manager-1.4.0-py2.py3-none-any.whl (402 kB)\n",
            "\u001b[K     |████████████████████████████████| 402 kB 43.0 MB/s \n",
            "\u001b[?25h  Downloading google_cloud_resource_manager-1.3.3-py2.py3-none-any.whl (286 kB)\n",
            "\u001b[K     |████████████████████████████████| 286 kB 38.6 MB/s \n",
            "\u001b[?25hINFO: pip is looking at multiple versions of google-cloud-notebooks to determine which version is compatible with other requirements. This could take a while.\n",
            "Collecting google-cloud-notebooks>=0.4.0\n",
            "  Downloading google_cloud_notebooks-1.3.0-py2.py3-none-any.whl (353 kB)\n",
            "\u001b[K     |████████████████████████████████| 353 kB 39.9 MB/s \n",
            "\u001b[?25hINFO: pip is looking at multiple versions of google-cloud-resource-manager to determine which version is compatible with other requirements. This could take a while.\n",
            "  Downloading google_cloud_notebooks-1.2.1-py2.py3-none-any.whl (343 kB)\n",
            "\u001b[K     |████████████████████████████████| 343 kB 49.1 MB/s \n",
            "\u001b[?25h  Downloading google_cloud_notebooks-1.2.0-py2.py3-none-any.whl (343 kB)\n",
            "\u001b[K     |████████████████████████████████| 343 kB 50.1 MB/s \n",
            "\u001b[?25hINFO: This is taking longer than usual. You might need to provide the dependency resolver with stricter constraints to reduce runtime. If you want to abort this run, you can press Ctrl + C to do so. To improve how pip performs, tell us what happened here: https://pip.pypa.io/surveys/backtracking\n",
            "  Downloading google_cloud_notebooks-1.1.1-py2.py3-none-any.whl (198 kB)\n",
            "\u001b[K     |████████████████████████████████| 198 kB 40.4 MB/s \n",
            "\u001b[?25h  Downloading google_cloud_notebooks-1.1.0-py2.py3-none-any.whl (196 kB)\n",
            "\u001b[K     |████████████████████████████████| 196 kB 41.7 MB/s \n",
            "\u001b[?25h  Downloading google_cloud_notebooks-1.0.0-py2.py3-none-any.whl (196 kB)\n",
            "\u001b[K     |████████████████████████████████| 196 kB 36.8 MB/s \n",
            "\u001b[?25h  Downloading google_cloud_notebooks-0.4.3-py2.py3-none-any.whl (195 kB)\n",
            "\u001b[K     |████████████████████████████████| 195 kB 45.4 MB/s \n",
            "\u001b[?25hINFO: pip is looking at multiple versions of google-cloud-notebooks to determine which version is compatible with other requirements. This could take a while.\n",
            "  Downloading google_cloud_notebooks-0.4.2-py2.py3-none-any.whl (195 kB)\n",
            "\u001b[K     |████████████████████████████████| 195 kB 46.0 MB/s \n",
            "\u001b[?25h  Downloading google_cloud_notebooks-0.4.1-py2.py3-none-any.whl (195 kB)\n",
            "\u001b[K     |████████████████████████████████| 195 kB 50.2 MB/s \n",
            "\u001b[?25h  Downloading google_cloud_notebooks-0.4.0-py2.py3-none-any.whl (195 kB)\n",
            "\u001b[K     |████████████████████████████████| 195 kB 49.1 MB/s \n",
            "\u001b[?25hINFO: pip is looking at multiple versions of google-cloud-core to determine which version is compatible with other requirements. This could take a while.\n",
            "Collecting google-cloud-core<2.0dev,>=1.0.3\n",
            "  Downloading google_cloud_core-1.7.1-py2.py3-none-any.whl (28 kB)\n",
            "INFO: This is taking longer than usual. You might need to provide the dependency resolver with stricter constraints to reduce runtime. If you want to abort this run, you can press Ctrl + C to do so. To improve how pip performs, tell us what happened here: https://pip.pypa.io/surveys/backtracking\n",
            "  Downloading google_cloud_core-1.7.0-py2.py3-none-any.whl (28 kB)\n",
            "  Downloading google_cloud_core-1.6.0-py2.py3-none-any.whl (28 kB)\n",
            "  Downloading google_cloud_core-1.5.0-py2.py3-none-any.whl (27 kB)\n",
            "  Downloading google_cloud_core-1.4.4-py2.py3-none-any.whl (27 kB)\n",
            "  Downloading google_cloud_core-1.4.3-py2.py3-none-any.whl (27 kB)\n",
            "  Downloading google_cloud_core-1.4.2-py2.py3-none-any.whl (26 kB)\n",
            "INFO: pip is looking at multiple versions of google-cloud-core to determine which version is compatible with other requirements. This could take a while.\n",
            "  Downloading google_cloud_core-1.4.1-py2.py3-none-any.whl (26 kB)\n",
            "  Downloading google_cloud_core-1.4.0-py2.py3-none-any.whl (26 kB)\n",
            "  Downloading google_cloud_core-1.3.0-py2.py3-none-any.whl (26 kB)\n",
            "  Downloading google_cloud_core-1.2.0-py2.py3-none-any.whl (26 kB)\n",
            "  Downloading google_cloud_core-1.1.0-py2.py3-none-any.whl (26 kB)\n",
            "INFO: This is taking longer than usual. You might need to provide the dependency resolver with stricter constraints to reduce runtime. If you want to abort this run, you can press Ctrl + C to do so. To improve how pip performs, tell us what happened here: https://pip.pypa.io/surveys/backtracking\n",
            "  Downloading google_cloud_core-1.0.3-py2.py3-none-any.whl (26 kB)\n",
            "INFO: pip is looking at multiple versions of google-cloud-bigquery to determine which version is compatible with other requirements. This could take a while.\n",
            "Collecting google-cloud-bigquery<3.0.0dev,>=1.15.0\n",
            "  Downloading google_cloud_bigquery-2.34.3-py2.py3-none-any.whl (206 kB)\n",
            "\u001b[K     |████████████████████████████████| 206 kB 57.0 MB/s \n",
            "\u001b[?25hRequirement already satisfied: google-resumable-media<3.0dev,>=0.6.0 in /usr/local/lib/python3.7/dist-packages (from google-cloud-bigquery<3.0.0dev,>=1.15.0->google-cloud-aiplatform<2,>=1.11.0->google-cloud-pipeline-components) (2.3.3)\n",
            "Requirement already satisfied: google-cloud-core<3.0.0dev,>=1.4.1 in /usr/local/lib/python3.7/dist-packages (from google-cloud-bigquery<3.0.0dev,>=1.15.0->google-cloud-aiplatform<2,>=1.11.0->google-cloud-pipeline-components) (2.3.0)\n",
            "Requirement already satisfied: python-dateutil<3.0dev,>=2.7.2 in /usr/local/lib/python3.7/dist-packages (from google-cloud-bigquery<3.0.0dev,>=1.15.0->google-cloud-aiplatform<2,>=1.11.0->google-cloud-pipeline-components) (2.8.2)\n",
            "Requirement already satisfied: google-crc32c<2.0dev,>=1.0 in /usr/local/lib/python3.7/dist-packages (from google-resumable-media<3.0dev,>=0.6.0->google-cloud-bigquery<3.0.0dev,>=1.15.0->google-cloud-aiplatform<2,>=1.11.0->google-cloud-pipeline-components) (1.3.0)\n",
            "Requirement already satisfied: pydantic<2,>=1.8.2 in /usr/local/lib/python3.7/dist-packages (from kfp<2.0.0,>=1.8.9->google-cloud-pipeline-components) (1.9.1)\n",
            "Requirement already satisfied: uritemplate<4,>=3.0.1 in /usr/local/lib/python3.7/dist-packages (from kfp<2.0.0,>=1.8.9->google-cloud-pipeline-components) (3.0.1)\n",
            "Requirement already satisfied: absl-py<2,>=0.9 in /usr/local/lib/python3.7/dist-packages (from kfp<2.0.0,>=1.8.9->google-cloud-pipeline-components) (1.0.0)\n",
            "Requirement already satisfied: kfp-pipeline-spec<0.2.0,>=0.1.14 in /usr/local/lib/python3.7/dist-packages (from kfp<2.0.0,>=1.8.9->google-cloud-pipeline-components) (0.1.15)\n",
            "Requirement already satisfied: strip-hints<1,>=0.1.8 in /usr/local/lib/python3.7/dist-packages (from kfp<2.0.0,>=1.8.9->google-cloud-pipeline-components) (0.1.10)\n",
            "Requirement already satisfied: kubernetes<19,>=8.0.0 in /usr/local/lib/python3.7/dist-packages (from kfp<2.0.0,>=1.8.9->google-cloud-pipeline-components) (18.20.0)\n",
            "Requirement already satisfied: docstring-parser<1,>=0.7.3 in /usr/local/lib/python3.7/dist-packages (from kfp<2.0.0,>=1.8.9->google-cloud-pipeline-components) (0.14.1)\n",
            "Requirement already satisfied: google-api-python-client<2,>=1.7.8 in /usr/local/lib/python3.7/dist-packages (from kfp<2.0.0,>=1.8.9->google-cloud-pipeline-components) (1.12.11)\n",
            "Requirement already satisfied: cloudpickle<3,>=2.0.0 in /usr/local/lib/python3.7/dist-packages (from kfp<2.0.0,>=1.8.9->google-cloud-pipeline-components) (2.1.0)\n",
            "Requirement already satisfied: kfp-server-api<2.0.0,>=1.1.2 in /usr/local/lib/python3.7/dist-packages (from kfp<2.0.0,>=1.8.9->google-cloud-pipeline-components) (1.8.1)\n",
            "Requirement already satisfied: Deprecated<2,>=1.2.7 in /usr/local/lib/python3.7/dist-packages (from kfp<2.0.0,>=1.8.9->google-cloud-pipeline-components) (1.2.13)\n",
            "Requirement already satisfied: fire<1,>=0.3.1 in /usr/local/lib/python3.7/dist-packages (from kfp<2.0.0,>=1.8.9->google-cloud-pipeline-components) (0.4.0)\n",
            "Requirement already satisfied: PyYAML<6,>=5.3 in /usr/local/lib/python3.7/dist-packages (from kfp<2.0.0,>=1.8.9->google-cloud-pipeline-components) (5.4.1)\n",
            "Requirement already satisfied: typing-extensions<4,>=3.7.4 in /usr/local/lib/python3.7/dist-packages (from kfp<2.0.0,>=1.8.9->google-cloud-pipeline-components) (3.10.0.2)\n",
            "Requirement already satisfied: tabulate<1,>=0.8.6 in /usr/local/lib/python3.7/dist-packages (from kfp<2.0.0,>=1.8.9->google-cloud-pipeline-components) (0.8.9)\n",
            "Requirement already satisfied: requests-toolbelt<1,>=0.8.0 in /usr/local/lib/python3.7/dist-packages (from kfp<2.0.0,>=1.8.9->google-cloud-pipeline-components) (0.9.1)\n",
            "Requirement already satisfied: click<9,>=7.1.2 in /usr/local/lib/python3.7/dist-packages (from kfp<2.0.0,>=1.8.9->google-cloud-pipeline-components) (7.1.2)\n",
            "Requirement already satisfied: typer<1.0,>=0.3.2 in /usr/local/lib/python3.7/dist-packages (from kfp<2.0.0,>=1.8.9->google-cloud-pipeline-components) (0.4.1)\n",
            "Requirement already satisfied: jsonschema<4,>=3.0.1 in /usr/local/lib/python3.7/dist-packages (from kfp<2.0.0,>=1.8.9->google-cloud-pipeline-components) (3.2.0)\n",
            "Requirement already satisfied: wrapt<2,>=1.10 in /usr/local/lib/python3.7/dist-packages (from Deprecated<2,>=1.2.7->kfp<2.0.0,>=1.8.9->google-cloud-pipeline-components) (1.14.1)\n",
            "Requirement already satisfied: termcolor in /usr/local/lib/python3.7/dist-packages (from fire<1,>=0.3.1->kfp<2.0.0,>=1.8.9->google-cloud-pipeline-components) (1.1.0)\n",
            "Requirement already satisfied: google-auth-httplib2>=0.0.3 in /usr/local/lib/python3.7/dist-packages (from google-api-python-client<2,>=1.7.8->kfp<2.0.0,>=1.8.9->google-cloud-pipeline-components) (0.0.4)\n",
            "Requirement already satisfied: httplib2<1dev,>=0.15.0 in /usr/local/lib/python3.7/dist-packages (from google-api-python-client<2,>=1.7.8->kfp<2.0.0,>=1.8.9->google-cloud-pipeline-components) (0.17.4)\n",
            "Requirement already satisfied: pyrsistent>=0.14.0 in /usr/local/lib/python3.7/dist-packages (from jsonschema<4,>=3.0.1->kfp<2.0.0,>=1.8.9->google-cloud-pipeline-components) (0.18.1)\n",
            "Requirement already satisfied: attrs>=17.4.0 in /usr/local/lib/python3.7/dist-packages (from jsonschema<4,>=3.0.1->kfp<2.0.0,>=1.8.9->google-cloud-pipeline-components) (21.4.0)\n",
            "Requirement already satisfied: importlib-metadata in /usr/local/lib/python3.7/dist-packages (from jsonschema<4,>=3.0.1->kfp<2.0.0,>=1.8.9->google-cloud-pipeline-components) (4.11.3)\n",
            "Requirement already satisfied: certifi in /usr/local/lib/python3.7/dist-packages (from kfp-server-api<2.0.0,>=1.1.2->kfp<2.0.0,>=1.8.9->google-cloud-pipeline-components) (2022.5.18.1)\n",
            "Requirement already satisfied: urllib3>=1.15 in /usr/local/lib/python3.7/dist-packages (from kfp-server-api<2.0.0,>=1.1.2->kfp<2.0.0,>=1.8.9->google-cloud-pipeline-components) (1.24.3)\n",
            "Requirement already satisfied: requests-oauthlib in /usr/local/lib/python3.7/dist-packages (from kubernetes<19,>=8.0.0->kfp<2.0.0,>=1.8.9->google-cloud-pipeline-components) (1.3.1)\n",
            "Requirement already satisfied: websocket-client!=0.40.0,!=0.41.*,!=0.42.*,>=0.32.0 in /usr/local/lib/python3.7/dist-packages (from kubernetes<19,>=8.0.0->kfp<2.0.0,>=1.8.9->google-cloud-pipeline-components) (1.3.2)\n",
            "Requirement already satisfied: pyparsing!=3.0.5,>=2.0.2 in /usr/local/lib/python3.7/dist-packages (from packaging>=14.3->google-api-core!=2.0.*,!=2.1.*,!=2.2.*,!=2.3.0,<3.0.0dev,>=1.31.5->google-cloud-pipeline-components) (3.0.9)\n",
            "Collecting protobuf>=3.12.0\n",
            "  Downloading protobuf-3.20.1-cp37-cp37m-manylinux_2_5_x86_64.manylinux1_x86_64.whl (1.0 MB)\n",
            "\u001b[K     |████████████████████████████████| 1.0 MB 45.1 MB/s \n",
            "\u001b[?25hRequirement already satisfied: pyasn1<0.5.0,>=0.4.6 in /usr/local/lib/python3.7/dist-packages (from pyasn1-modules>=0.2.1->google-auth<2.0dev,>=1.25.0->google-api-core!=2.0.*,!=2.1.*,!=2.2.*,!=2.3.0,<3.0.0dev,>=1.31.5->google-cloud-pipeline-components) (0.4.8)\n",
            "Requirement already satisfied: idna<3,>=2.5 in /usr/local/lib/python3.7/dist-packages (from requests<3.0.0dev,>=2.18.0->google-api-core!=2.0.*,!=2.1.*,!=2.2.*,!=2.3.0,<3.0.0dev,>=1.31.5->google-cloud-pipeline-components) (2.10)\n",
            "Requirement already satisfied: chardet<4,>=3.0.2 in /usr/local/lib/python3.7/dist-packages (from requests<3.0.0dev,>=2.18.0->google-api-core!=2.0.*,!=2.1.*,!=2.2.*,!=2.3.0,<3.0.0dev,>=1.31.5->google-cloud-pipeline-components) (3.0.4)\n",
            "Requirement already satisfied: wheel in /usr/local/lib/python3.7/dist-packages (from strip-hints<1,>=0.1.8->kfp<2.0.0,>=1.8.9->google-cloud-pipeline-components) (0.37.1)\n",
            "Requirement already satisfied: zipp>=0.5 in /usr/local/lib/python3.7/dist-packages (from importlib-metadata->jsonschema<4,>=3.0.1->kfp<2.0.0,>=1.8.9->google-cloud-pipeline-components) (3.8.0)\n",
            "Requirement already satisfied: oauthlib>=3.0.0 in /usr/local/lib/python3.7/dist-packages (from requests-oauthlib->kubernetes<19,>=8.0.0->kfp<2.0.0,>=1.8.9->google-cloud-pipeline-components) (3.2.0)\n",
            "Installing collected packages: protobuf, proto-plus, grpc-google-iam-v1, google-cloud-resource-manager, google-cloud-bigquery, google-cloud-notebooks, google-cloud-aiplatform, google-cloud-pipeline-components\n",
            "  Attempting uninstall: protobuf\n",
            "    Found existing installation: protobuf 3.17.3\n",
            "    Uninstalling protobuf-3.17.3:\n",
            "      Successfully uninstalled protobuf-3.17.3\n",
            "  Attempting uninstall: google-cloud-bigquery\n",
            "    Found existing installation: google-cloud-bigquery 1.21.0\n",
            "    Uninstalling google-cloud-bigquery-1.21.0:\n",
            "      Successfully uninstalled google-cloud-bigquery-1.21.0\n",
            "\u001b[31mERROR: pip's dependency resolver does not currently take into account all the packages that are installed. This behaviour is the source of the following dependency conflicts.\n",
            "tensorflow 2.8.0+zzzcolab20220506162203 requires tf-estimator-nightly==2.8.0.dev2021122109, which is not installed.\n",
            "pandas-gbq 0.13.3 requires google-cloud-bigquery[bqstorage,pandas]<2.0.0dev,>=1.11.1, but you have google-cloud-bigquery 2.34.3 which is incompatible.\u001b[0m\n",
            "Successfully installed google-cloud-aiplatform-1.13.0 google-cloud-bigquery-2.34.3 google-cloud-notebooks-1.3.1 google-cloud-pipeline-components-1.0.7 google-cloud-resource-manager-1.5.0 grpc-google-iam-v1-0.12.4 proto-plus-1.20.4 protobuf-3.20.1\n"
          ]
        },
        {
          "output_type": "display_data",
          "data": {
            "application/vnd.colab-display-data+json": {
              "pip_warning": {
                "packages": [
                  "google"
                ]
              }
            }
          },
          "metadata": {}
        },
        {
          "output_type": "stream",
          "name": "stdout",
          "text": [
            "Looking in indexes: https://pypi.org/simple, https://us-python.pkg.dev/colab-wheels/public/simple/\n",
            "Requirement already satisfied: tensorflow in /usr/local/lib/python3.7/dist-packages (2.8.0+zzzcolab20220506162203)\n",
            "Collecting tensorflow\n",
            "  Downloading tensorflow-2.9.1-cp37-cp37m-manylinux_2_17_x86_64.manylinux2014_x86_64.whl (511.7 MB)\n",
            "\u001b[K     |████████████████████████████████| 511.7 MB 5.4 kB/s \n",
            "\u001b[?25hCollecting gast<=0.4.0,>=0.2.1\n",
            "  Downloading gast-0.4.0-py3-none-any.whl (9.8 kB)\n",
            "Requirement already satisfied: astunparse>=1.6.0 in /usr/local/lib/python3.7/dist-packages (from tensorflow) (1.6.3)\n",
            "Collecting protobuf<3.20,>=3.9.2\n",
            "  Downloading protobuf-3.19.4-cp37-cp37m-manylinux_2_17_x86_64.manylinux2014_x86_64.whl (1.1 MB)\n",
            "\u001b[K     |████████████████████████████████| 1.1 MB 38.2 MB/s \n",
            "\u001b[?25hRequirement already satisfied: opt-einsum>=2.3.2 in /usr/local/lib/python3.7/dist-packages (from tensorflow) (3.3.0)\n",
            "Requirement already satisfied: termcolor>=1.1.0 in /usr/local/lib/python3.7/dist-packages (from tensorflow) (1.1.0)\n",
            "Requirement already satisfied: numpy>=1.20 in /usr/local/lib/python3.7/dist-packages (from tensorflow) (1.21.6)\n",
            "Requirement already satisfied: libclang>=13.0.0 in /usr/local/lib/python3.7/dist-packages (from tensorflow) (14.0.1)\n",
            "Requirement already satisfied: six>=1.12.0 in /usr/local/lib/python3.7/dist-packages (from tensorflow) (1.15.0)\n",
            "Collecting tensorboard<2.10,>=2.9\n",
            "  Downloading tensorboard-2.9.0-py3-none-any.whl (5.8 MB)\n",
            "\u001b[K     |████████████████████████████████| 5.8 MB 33.9 MB/s \n",
            "\u001b[?25hRequirement already satisfied: google-pasta>=0.1.1 in /usr/local/lib/python3.7/dist-packages (from tensorflow) (0.2.0)\n",
            "Requirement already satisfied: wrapt>=1.11.0 in /usr/local/lib/python3.7/dist-packages (from tensorflow) (1.14.1)\n",
            "Requirement already satisfied: setuptools in /usr/local/lib/python3.7/dist-packages (from tensorflow) (57.4.0)\n",
            "Requirement already satisfied: keras-preprocessing>=1.1.1 in /usr/local/lib/python3.7/dist-packages (from tensorflow) (1.1.2)\n",
            "Collecting keras<2.10.0,>=2.9.0rc0\n",
            "  Downloading keras-2.9.0-py2.py3-none-any.whl (1.6 MB)\n",
            "\u001b[K     |████████████████████████████████| 1.6 MB 35.7 MB/s \n",
            "\u001b[?25hRequirement already satisfied: typing-extensions>=3.6.6 in /usr/local/lib/python3.7/dist-packages (from tensorflow) (3.10.0.2)\n",
            "Requirement already satisfied: tensorflow-io-gcs-filesystem>=0.23.1 in /usr/local/lib/python3.7/dist-packages (from tensorflow) (0.26.0)\n",
            "Requirement already satisfied: absl-py>=1.0.0 in /usr/local/lib/python3.7/dist-packages (from tensorflow) (1.0.0)\n",
            "Requirement already satisfied: h5py>=2.9.0 in /usr/local/lib/python3.7/dist-packages (from tensorflow) (3.1.0)\n",
            "Collecting tensorflow-estimator<2.10.0,>=2.9.0rc0\n",
            "  Downloading tensorflow_estimator-2.9.0-py2.py3-none-any.whl (438 kB)\n",
            "\u001b[K     |████████████████████████████████| 438 kB 50.0 MB/s \n",
            "\u001b[?25hCollecting flatbuffers<2,>=1.12\n",
            "  Downloading flatbuffers-1.12-py2.py3-none-any.whl (15 kB)\n",
            "Requirement already satisfied: grpcio<2.0,>=1.24.3 in /usr/local/lib/python3.7/dist-packages (from tensorflow) (1.46.1)\n",
            "Requirement already satisfied: packaging in /usr/local/lib/python3.7/dist-packages (from tensorflow) (21.3)\n",
            "Requirement already satisfied: wheel<1.0,>=0.23.0 in /usr/local/lib/python3.7/dist-packages (from astunparse>=1.6.0->tensorflow) (0.37.1)\n",
            "Requirement already satisfied: cached-property in /usr/local/lib/python3.7/dist-packages (from h5py>=2.9.0->tensorflow) (1.5.2)\n",
            "Requirement already satisfied: tensorboard-plugin-wit>=1.6.0 in /usr/local/lib/python3.7/dist-packages (from tensorboard<2.10,>=2.9->tensorflow) (1.8.1)\n",
            "Requirement already satisfied: google-auth-oauthlib<0.5,>=0.4.1 in /usr/local/lib/python3.7/dist-packages (from tensorboard<2.10,>=2.9->tensorflow) (0.4.6)\n",
            "Requirement already satisfied: requests<3,>=2.21.0 in /usr/local/lib/python3.7/dist-packages (from tensorboard<2.10,>=2.9->tensorflow) (2.23.0)\n",
            "Requirement already satisfied: tensorboard-data-server<0.7.0,>=0.6.0 in /usr/local/lib/python3.7/dist-packages (from tensorboard<2.10,>=2.9->tensorflow) (0.6.1)\n",
            "Requirement already satisfied: werkzeug>=1.0.1 in /usr/local/lib/python3.7/dist-packages (from tensorboard<2.10,>=2.9->tensorflow) (1.0.1)\n",
            "Requirement already satisfied: markdown>=2.6.8 in /usr/local/lib/python3.7/dist-packages (from tensorboard<2.10,>=2.9->tensorflow) (3.3.7)\n",
            "Requirement already satisfied: google-auth<3,>=1.6.3 in /usr/local/lib/python3.7/dist-packages (from tensorboard<2.10,>=2.9->tensorflow) (1.35.0)\n",
            "Requirement already satisfied: rsa<5,>=3.1.4 in /usr/local/lib/python3.7/dist-packages (from google-auth<3,>=1.6.3->tensorboard<2.10,>=2.9->tensorflow) (4.8)\n",
            "Requirement already satisfied: cachetools<5.0,>=2.0.0 in /usr/local/lib/python3.7/dist-packages (from google-auth<3,>=1.6.3->tensorboard<2.10,>=2.9->tensorflow) (4.2.4)\n",
            "Requirement already satisfied: pyasn1-modules>=0.2.1 in /usr/local/lib/python3.7/dist-packages (from google-auth<3,>=1.6.3->tensorboard<2.10,>=2.9->tensorflow) (0.2.8)\n",
            "Requirement already satisfied: requests-oauthlib>=0.7.0 in /usr/local/lib/python3.7/dist-packages (from google-auth-oauthlib<0.5,>=0.4.1->tensorboard<2.10,>=2.9->tensorflow) (1.3.1)\n",
            "Requirement already satisfied: importlib-metadata>=4.4 in /usr/local/lib/python3.7/dist-packages (from markdown>=2.6.8->tensorboard<2.10,>=2.9->tensorflow) (4.11.3)\n",
            "Requirement already satisfied: zipp>=0.5 in /usr/local/lib/python3.7/dist-packages (from importlib-metadata>=4.4->markdown>=2.6.8->tensorboard<2.10,>=2.9->tensorflow) (3.8.0)\n",
            "Requirement already satisfied: pyasn1<0.5.0,>=0.4.6 in /usr/local/lib/python3.7/dist-packages (from pyasn1-modules>=0.2.1->google-auth<3,>=1.6.3->tensorboard<2.10,>=2.9->tensorflow) (0.4.8)\n",
            "Requirement already satisfied: idna<3,>=2.5 in /usr/local/lib/python3.7/dist-packages (from requests<3,>=2.21.0->tensorboard<2.10,>=2.9->tensorflow) (2.10)\n",
            "Requirement already satisfied: urllib3!=1.25.0,!=1.25.1,<1.26,>=1.21.1 in /usr/local/lib/python3.7/dist-packages (from requests<3,>=2.21.0->tensorboard<2.10,>=2.9->tensorflow) (1.24.3)\n",
            "Requirement already satisfied: chardet<4,>=3.0.2 in /usr/local/lib/python3.7/dist-packages (from requests<3,>=2.21.0->tensorboard<2.10,>=2.9->tensorflow) (3.0.4)\n",
            "Requirement already satisfied: certifi>=2017.4.17 in /usr/local/lib/python3.7/dist-packages (from requests<3,>=2.21.0->tensorboard<2.10,>=2.9->tensorflow) (2022.5.18.1)\n",
            "Requirement already satisfied: oauthlib>=3.0.0 in /usr/local/lib/python3.7/dist-packages (from requests-oauthlib>=0.7.0->google-auth-oauthlib<0.5,>=0.4.1->tensorboard<2.10,>=2.9->tensorflow) (3.2.0)\n",
            "Requirement already satisfied: pyparsing!=3.0.5,>=2.0.2 in /usr/local/lib/python3.7/dist-packages (from packaging->tensorflow) (3.0.9)\n",
            "Installing collected packages: protobuf, tensorflow-estimator, tensorboard, keras, gast, flatbuffers, tensorflow\n",
            "  Attempting uninstall: protobuf\n",
            "    Found existing installation: protobuf 3.20.1\n",
            "    Uninstalling protobuf-3.20.1:\n",
            "      Successfully uninstalled protobuf-3.20.1\n",
            "  Attempting uninstall: tensorflow-estimator\n",
            "    Found existing installation: tensorflow-estimator 2.8.0\n",
            "    Uninstalling tensorflow-estimator-2.8.0:\n",
            "      Successfully uninstalled tensorflow-estimator-2.8.0\n",
            "  Attempting uninstall: tensorboard\n",
            "    Found existing installation: tensorboard 2.8.0\n",
            "    Uninstalling tensorboard-2.8.0:\n",
            "      Successfully uninstalled tensorboard-2.8.0\n",
            "  Attempting uninstall: keras\n",
            "    Found existing installation: keras 2.8.0\n",
            "    Uninstalling keras-2.8.0:\n",
            "      Successfully uninstalled keras-2.8.0\n",
            "  Attempting uninstall: gast\n",
            "    Found existing installation: gast 0.5.3\n",
            "    Uninstalling gast-0.5.3:\n",
            "      Successfully uninstalled gast-0.5.3\n",
            "  Attempting uninstall: flatbuffers\n",
            "    Found existing installation: flatbuffers 2.0\n",
            "    Uninstalling flatbuffers-2.0:\n",
            "      Successfully uninstalled flatbuffers-2.0\n",
            "  Attempting uninstall: tensorflow\n",
            "    Found existing installation: tensorflow 2.8.0+zzzcolab20220506162203\n",
            "    Uninstalling tensorflow-2.8.0+zzzcolab20220506162203:\n",
            "      Successfully uninstalled tensorflow-2.8.0+zzzcolab20220506162203\n",
            "Successfully installed flatbuffers-1.12 gast-0.4.0 keras-2.9.0 protobuf-3.19.4 tensorboard-2.9.0 tensorflow-2.9.1 tensorflow-estimator-2.9.0\n"
          ]
        },
        {
          "output_type": "display_data",
          "data": {
            "application/vnd.colab-display-data+json": {
              "pip_warning": {
                "packages": [
                  "google"
                ]
              }
            }
          },
          "metadata": {}
        },
        {
          "output_type": "stream",
          "name": "stdout",
          "text": [
            "Looking in indexes: https://pypi.org/simple, https://us-python.pkg.dev/colab-wheels/public/simple/\n",
            "Requirement already satisfied: matplotlib in /usr/local/lib/python3.7/dist-packages (3.2.2)\n",
            "Collecting matplotlib\n",
            "  Downloading matplotlib-3.5.2-cp37-cp37m-manylinux_2_5_x86_64.manylinux1_x86_64.whl (11.2 MB)\n",
            "\u001b[K     |████████████████████████████████| 11.2 MB 4.4 MB/s \n",
            "\u001b[?25hRequirement already satisfied: numpy>=1.17 in /usr/local/lib/python3.7/dist-packages (from matplotlib) (1.21.6)\n",
            "Requirement already satisfied: cycler>=0.10 in /usr/local/lib/python3.7/dist-packages (from matplotlib) (0.11.0)\n",
            "Collecting fonttools>=4.22.0\n",
            "  Downloading fonttools-4.33.3-py3-none-any.whl (930 kB)\n",
            "\u001b[K     |████████████████████████████████| 930 kB 40.9 MB/s \n",
            "\u001b[?25hRequirement already satisfied: kiwisolver>=1.0.1 in /usr/local/lib/python3.7/dist-packages (from matplotlib) (1.4.2)\n",
            "Requirement already satisfied: pillow>=6.2.0 in /usr/local/lib/python3.7/dist-packages (from matplotlib) (7.1.2)\n",
            "Requirement already satisfied: python-dateutil>=2.7 in /usr/local/lib/python3.7/dist-packages (from matplotlib) (2.8.2)\n",
            "Requirement already satisfied: pyparsing>=2.2.1 in /usr/local/lib/python3.7/dist-packages (from matplotlib) (3.0.9)\n",
            "Requirement already satisfied: packaging>=20.0 in /usr/local/lib/python3.7/dist-packages (from matplotlib) (21.3)\n",
            "Requirement already satisfied: typing-extensions in /usr/local/lib/python3.7/dist-packages (from kiwisolver>=1.0.1->matplotlib) (3.10.0.2)\n",
            "Requirement already satisfied: six>=1.5 in /usr/local/lib/python3.7/dist-packages (from python-dateutil>=2.7->matplotlib) (1.15.0)\n",
            "Installing collected packages: fonttools, matplotlib\n",
            "  Attempting uninstall: matplotlib\n",
            "    Found existing installation: matplotlib 3.2.2\n",
            "    Uninstalling matplotlib-3.2.2:\n",
            "      Successfully uninstalled matplotlib-3.2.2\n",
            "\u001b[31mERROR: pip's dependency resolver does not currently take into account all the packages that are installed. This behaviour is the source of the following dependency conflicts.\n",
            "albumentations 0.1.12 requires imgaug<0.2.7,>=0.2.5, but you have imgaug 0.2.9 which is incompatible.\u001b[0m\n",
            "Successfully installed fonttools-4.33.3 matplotlib-3.5.2\n"
          ]
        },
        {
          "output_type": "display_data",
          "data": {
            "application/vnd.colab-display-data+json": {
              "pip_warning": {
                "packages": [
                  "matplotlib",
                  "mpl_toolkits"
                ]
              }
            }
          },
          "metadata": {}
        },
        {
          "output_type": "stream",
          "name": "stdout",
          "text": [
            "Looking in indexes: https://pypi.org/simple, https://us-python.pkg.dev/colab-wheels/public/simple/\n",
            "Requirement already satisfied: numpy in /usr/local/lib/python3.7/dist-packages (1.21.6)\n",
            "Looking in indexes: https://pypi.org/simple, https://us-python.pkg.dev/colab-wheels/public/simple/\n",
            "Requirement already satisfied: pandas in /usr/local/lib/python3.7/dist-packages (1.3.5)\n",
            "Requirement already satisfied: numpy>=1.17.3 in /usr/local/lib/python3.7/dist-packages (from pandas) (1.21.6)\n",
            "Requirement already satisfied: python-dateutil>=2.7.3 in /usr/local/lib/python3.7/dist-packages (from pandas) (2.8.2)\n",
            "Requirement already satisfied: pytz>=2017.3 in /usr/local/lib/python3.7/dist-packages (from pandas) (2022.1)\n",
            "Requirement already satisfied: six>=1.5 in /usr/local/lib/python3.7/dist-packages (from python-dateutil>=2.7.3->pandas) (1.15.0)\n"
          ]
        }
      ]
    },
    {
      "cell_type": "markdown",
      "metadata": {
        "id": "wIibh1qxkc_G"
      },
      "source": [
        "### Restart the kernel\n",
        "\n",
        "After you install the additional packages, you need to restart the notebook kernel so it can find the packages."
      ]
    },
    {
      "cell_type": "code",
      "metadata": {
        "id": "zGbkBMWPPvPY"
      },
      "source": [
        "# Automatically restart kernel after installs\n",
        "import os\n",
        "\n",
        "if not os.getenv(\"IS_TESTING\"):\n",
        "    # Automatically restart kernel after installs\n",
        "    import IPython\n",
        "\n",
        "    app = IPython.Application.instance()\n",
        "    app.kernel.do_shutdown(True)"
      ],
      "execution_count": null,
      "outputs": []
    },
    {
      "cell_type": "markdown",
      "metadata": {
        "id": "No37uLsjk1UN"
      },
      "source": [
        "## Before you begin\n",
        "\n",
        "### Set up your Google Cloud project\n",
        "\n",
        "**The following steps are required.**\n",
        "\n",
        "1. Log in to GCP and ensure you know the name of the project your credits are attached to.\n",
        "\n",
        "1. [Enable the Vertex AI API, Cloud Build API, Cloud Storage API, and Container Registry API](https://console.cloud.google.com/flows/enableapi?apiid=aiplatform.googleapis.com,cloudbuild.googleapis.com,storage.googleapis.com,containerregistry.googleapis.com). **PLEASE CLICK THE LINK TO CONFIRM**\n",
        "\n",
        "1. Enter your project ID in the cell below. Then run the cell to make sure the\n",
        "Cloud SDK uses the right project for all the commands in this notebook.\n",
        "\n",
        "**Note**: Jupyter runs lines prefixed with `!` as shell commands, and it interpolates Python variables prefixed with `$` into these commands."
      ]
    },
    {
      "cell_type": "markdown",
      "metadata": {
        "id": "ff394ff4"
      },
      "source": [
        "#### Set your project ID"
      ]
    },
    {
      "cell_type": "code",
      "metadata": {
        "collapsed": true,
        "id": "939b4566",
        "jupyter": {
          "outputs_hidden": true
        }
      },
      "source": [
        "PROJECT_ID = \"kfproject-351309\"  # @param {type:\"string\"}"
      ],
      "execution_count": null,
      "outputs": []
    },
    {
      "cell_type": "code",
      "metadata": {
        "colab": {
          "base_uri": "https://localhost:8080/"
        },
        "id": "ypoM_48NJCuU",
        "outputId": "a7216595-eb97-45ab-e6ec-6985bed9acb1"
      },
      "source": [
        "!gcloud config set project {PROJECT_ID}"
      ],
      "execution_count": null,
      "outputs": [
        {
          "output_type": "stream",
          "name": "stdout",
          "text": [
            "Updated property [core/project].\n"
          ]
        }
      ]
    },
    {
      "cell_type": "markdown",
      "metadata": {
        "id": "2df8c231"
      },
      "source": [
        "#### Timestamp\n",
        "\n",
        "If you are in a live tutorial session, you might be using a shared test account or project. To avoid name collisions between users on resources created, you create a timestamp for each instance session, and append it onto the name of resources you create in this tutorial."
      ]
    },
    {
      "cell_type": "code",
      "metadata": {
        "collapsed": true,
        "id": "84ba4ab1",
        "jupyter": {
          "outputs_hidden": true
        }
      },
      "source": [
        "from datetime import datetime\n",
        "\n",
        "TIMESTAMP = datetime.now().strftime(\"%Y%m%d%H%M%S\")"
      ],
      "execution_count": null,
      "outputs": []
    },
    {
      "cell_type": "markdown",
      "source": [
        "####Authenticate account\n",
        "Run the below code and give the Notebook authenticated access via the pop-up."
      ],
      "metadata": {
        "id": "kcHwNEcGHu1J"
      }
    },
    {
      "cell_type": "code",
      "source": [
        "import os\n",
        "import sys\n",
        "\n",
        "# If you are running this notebook in Colab, run this cell and follow the\n",
        "# instructions to authenticate your GCP account. This provides access to your\n",
        "# Cloud Storage bucket and lets you submit training jobs and prediction\n",
        "# requests.\n",
        "\n",
        "# The Google Cloud Notebook product has specific requirements\n",
        "IS_GOOGLE_CLOUD_NOTEBOOK = os.path.exists(\"/opt/deeplearning/metadata/env_version\")\n",
        "\n",
        "# If on Google Cloud Notebooks, then don't execute this code\n",
        "if not IS_GOOGLE_CLOUD_NOTEBOOK:\n",
        "    if \"google.colab\" in sys.modules:\n",
        "        from google.colab import auth as google_auth\n",
        "\n",
        "        google_auth.authenticate_user()\n",
        "\n",
        "    # If you are running this notebook locally, replace the string below with the\n",
        "    # path to your service account key and run this cell to authenticate your GCP\n",
        "    # account.\n",
        "    elif not os.getenv(\"IS_TESTING\"):\n",
        "        %env GOOGLE_APPLICATION_CREDENTIALS ''"
      ],
      "metadata": {
        "id": "JpEM0si3H4kf"
      },
      "execution_count": null,
      "outputs": []
    },
    {
      "cell_type": "markdown",
      "metadata": {
        "id": "zgPO1eR3CYjk"
      },
      "source": [
        "### Create a Cloud Storage bucket\n",
        "\n",
        "When you submit a training job, Vertex AI saves all resources to the given GCS bucket. We will also use the same bucket to download and host the input data. \n",
        "\n",
        "You will need to navigate to GCP and create a storage bucket in **Cloud Storage**. You need to also change the `REGION` variable, which is used for operations\n",
        "throughout the rest of this notebook. Make sure to [choose a region where Vertex AI services are\n",
        "available](https://cloud.google.com/vertex-ai/docs/general/locations#available_regions). You may not use ** a Multi-Regional Storage bucket for training with Vertex AI**. (Note this will be the default option - stick with Belgium).\n",
        "\n",
        "Set the name of your Cloud Storage bucket below."
      ]
    },
    {
      "cell_type": "code",
      "metadata": {
        "id": "MzGDU7TWdts_",
        "colab": {
          "base_uri": "https://localhost:8080/"
        },
        "outputId": "e6de7228-c587-4346-cc9a-6187bc38f617"
      },
      "source": [
        "BUCKET_NAME = \"gs://10piece\"  # @param {type:\"string\"}\n",
        "REGION = \"europe-west1\"  # @param {type:\"string\"}\n",
        "print(f'Bucket = {BUCKET_NAME}, Region = {REGION}')"
      ],
      "execution_count": null,
      "outputs": [
        {
          "output_type": "stream",
          "name": "stdout",
          "text": [
            "Bucket = gs://10piece, Region = europe-west1\n"
          ]
        }
      ]
    },
    {
      "cell_type": "markdown",
      "metadata": {
        "id": "h01b41bGpu6l"
      },
      "source": [
        "### Import libraries and define constants"
      ]
    },
    {
      "cell_type": "code",
      "metadata": {
        "id": "4NUcY9w0pidh"
      },
      "source": [
        "PIPELINE_NAME = '{0}-{1}'.format('tfp-anomaly-detection', TIMESTAMP)\n",
        "PIPELINE_ROOT = '{0}/{1}'.format(BUCKET_NAME, PIPELINE_NAME)"
      ],
      "execution_count": null,
      "outputs": []
    },
    {
      "cell_type": "code",
      "metadata": {
        "id": "6MsrEnjUJMDB"
      },
      "source": [
        "from typing import Callable, Optional, Mapping, Any\n",
        "\n",
        "import kfp\n",
        "from kfp.v2 import compiler\n",
        "from kfp.v2 import dsl\n",
        "from kfp.v2.google.client import AIPlatformClient\n",
        "from kfp.v2.dsl import Input, Output, Dataset"
      ],
      "execution_count": null,
      "outputs": []
    },
    {
      "cell_type": "markdown",
      "metadata": {
        "id": "8aSrF6n1noLh"
      },
      "source": [
        "### Define the anomaly detection components\n",
        "\n",
        "Here you will load components from the [anomaly_detection](https://github.com/kubeflow/pipelines/tree/master/components/google-cloud/google_cloud_pipeline_components/experimental/tensorflow_probability/anomaly_detection) folder in the [Google Cloud Pipeline Components SDK](https://github.com/kubeflow/pipelines/tree/master/components/google-cloud).\n",
        "\n",
        "You can also save and modify the original Python component file. For example, for [tfp_anomaly_detection.py](https://github.com/kubeflow/pipelines/blob/master/components/google-cloud/google_cloud_pipeline_components/experimental/tensorflow_probability/anomaly_detection/tfp_anomaly_detection.py):\n",
        "\n",
        "* Call `generate_component_file()` which creates a yaml file.\n",
        "* Replace the next cell with `anomaly_detection_op = kfp.components.load_component_from_file('component.yaml')`\n",
        "\n",
        "The components do the following:\n",
        "* `preprocess`: Regularizes and resamples a time series.\n",
        "* `tfp_anomaly_detection`: Infers the structure of the time series, fits the model, and identifies anomalies based on the predictive distribution of acceptable values at each timestep.\n",
        "* `postprocess`: Fills missing values from regularizing and resampling."
      ]
    },
    {
      "cell_type": "code",
      "metadata": {
        "id": "ZeMp71LgJYMF"
      },
      "source": [
        "preprocess_op = kfp.components.load_component_from_url('https://raw.githubusercontent.com/kubeflow/pipelines/master/components/google-cloud/google_cloud_pipeline_components/experimental/tensorflow_probability/anomaly_detection/preprocess.yaml')\n",
        "anomaly_detection_op = kfp.components.load_component_from_url('https://raw.githubusercontent.com/kubeflow/pipelines/master/components/google-cloud/google_cloud_pipeline_components/experimental/tensorflow_probability/anomaly_detection/component.yaml')\n",
        "postprocess_op = kfp.components.load_component_from_url('https://raw.githubusercontent.com/kubeflow/pipelines/master/components/google-cloud/google_cloud_pipeline_components/experimental/tensorflow_probability/anomaly_detection/postprocess.yaml')"
      ],
      "execution_count": null,
      "outputs": []
    },
    {
      "cell_type": "markdown",
      "metadata": {
        "id": "qFFIz_X0n7p2"
      },
      "source": [
        "### Define the pipeline\n",
        "\n",
        "Here you will define the relationship between the components and how data is passed. In this pipeline a Google Cloud Storage csv is imported, the data is preprocessed, anomalies are flagged, and the results are postprocessed so that the output csv is scoreable by the Numenta Anomaly Benchmark."
      ]
    },
    {
      "cell_type": "code",
      "metadata": {
        "id": "s1vqx-VGJrzT"
      },
      "source": [
        "@dsl.pipeline(\n",
        "    pipeline_root=PIPELINE_ROOT, name=PIPELINE_NAME)\n",
        "def pipeline(input_url: str, memory_limit: str, seed: int) -> None:\n",
        "  \"\"\"\n",
        "      Train model and return detected anomalies.\n",
        "  \"\"\"\n",
        "  input_task = kfp.dsl.importer(\n",
        "        artifact_uri=input_url,\n",
        "        artifact_class=Dataset)\n",
        "  preprocess_task = preprocess_op(input_dataset=input_task.output)\n",
        "  anomaly_detection_task = anomaly_detection_op(input_dataset=preprocess_task.output, seed=seed).set_memory_limit(memory_limit)\n",
        "  postprocess_op(input_dataset=input_task.output, predictions_dataset=anomaly_detection_task.output)"
      ],
      "execution_count": null,
      "outputs": []
    },
    {
      "cell_type": "code",
      "metadata": {
        "id": "dpZB1t1CJJCT"
      },
      "source": [
        "def run_pipeline(pipeline: Callable,\n",
        "                 parameter_values: Optional[Mapping[str, Any]] = {},\n",
        "                 enable_caching: bool = False) -> None:\n",
        "  \"\"\"Runs a given pipeline function using Kubeflow Pipelines.\n",
        "\n",
        "  Args:\n",
        "   pipeline: The function to run.\n",
        "   parameter_values: Parameters passed to the pipeline function when run.\n",
        "   enable_caching: Whether to used cached results from previous runs.\n",
        "  \"\"\"\n",
        "  compiler.Compiler().compile(\n",
        "    pipeline_func=pipeline,\n",
        "    package_path='{}_pipeline.json'.format(PIPELINE_NAME))\n",
        "\n",
        "  api_client = AIPlatformClient(\n",
        "    project_id=PROJECT_ID,\n",
        "    region=REGION,\n",
        "  )\n",
        "\n",
        "  _ = api_client.create_run_from_job_spec(\n",
        "    job_spec_path='{}_pipeline.json'.format(PIPELINE_NAME),\n",
        "    pipeline_root=PIPELINE_ROOT,\n",
        "    parameter_values=parameter_values,\n",
        "    enable_caching=enable_caching)"
      ],
      "execution_count": null,
      "outputs": []
    },
    {
      "cell_type": "markdown",
      "metadata": {
        "id": "7BO65SDC8qMt"
      },
      "source": [
        "### Download the data\n",
        "\n",
        "Here you will download the Numenta Anomaly Benchmark and upload the dataset to your GCS bucket. We will then find the exact GCS file url associated with the chosen task to pass as the input url into the pipeline."
      ]
    },
    {
      "cell_type": "code",
      "source": [
        "import os\n",
        "\n",
        "NAB_DATA_BLOB = BUCKET_NAME + '/NAB'\n",
        "if not os.path.exists('content/NAB'):\n",
        "  !git clone https://github.com/numenta/NAB\n",
        "!gsutil cp -r NAB/data $NAB_DATA_BLOB"
      ],
      "metadata": {
        "colab": {
          "base_uri": "https://localhost:8080/"
        },
        "id": "2YHwmJHOCdom",
        "outputId": "88eae3c9-4449-42a7-dd72-f019c0a3b857"
      },
      "execution_count": null,
      "outputs": [
        {
          "output_type": "stream",
          "name": "stdout",
          "text": [
            "Cloning into 'NAB'...\n",
            "remote: Enumerating objects: 7029, done.\u001b[K\n",
            "remote: Counting objects: 100% (114/114), done.\u001b[K\n",
            "remote: Compressing objects: 100% (78/78), done.\u001b[K\n",
            "remote: Total 7029 (delta 48), reused 58 (delta 35), pack-reused 6915\u001b[K\n",
            "Receiving objects: 100% (7029/7029), 86.74 MiB | 14.06 MiB/s, done.\n",
            "Resolving deltas: 100% (4922/4922), done.\n",
            "Checking out files: 100% (1186/1186), done.\n",
            "Copying file://NAB/data/README.md [Content-Type=text/markdown]...\n",
            "Copying file://NAB/data/realAdExchange/exchange-3_cpc_results.csv [Content-Type=text/csv]...\n",
            "Copying file://NAB/data/realAdExchange/exchange-2_cpm_results.csv [Content-Type=text/csv]...\n",
            "Copying file://NAB/data/realAdExchange/exchange-2_cpc_results.csv [Content-Type=text/csv]...\n",
            "\\\n",
            "==> NOTE: You are performing a sequence of gsutil operations that may\n",
            "run significantly faster if you instead use gsutil -m cp ... Please\n",
            "see the -m section under \"gsutil help options\" for further information\n",
            "about when gsutil -m can be advantageous.\n",
            "\n",
            "Copying file://NAB/data/realAdExchange/exchange-4_cpc_results.csv [Content-Type=text/csv]...\n",
            "Copying file://NAB/data/realAdExchange/exchange-3_cpm_results.csv [Content-Type=text/csv]...\n",
            "Copying file://NAB/data/realAdExchange/exchange-4_cpm_results.csv [Content-Type=text/csv]...\n",
            "Copying file://NAB/data/artificialNoAnomaly/art_flatline.csv [Content-Type=text/csv]...\n",
            "Copying file://NAB/data/artificialNoAnomaly/art_daily_no_noise.csv [Content-Type=text/csv]...\n",
            "Copying file://NAB/data/artificialNoAnomaly/art_noisy.csv [Content-Type=text/csv]...\n",
            "Copying file://NAB/data/artificialNoAnomaly/art_daily_perfect_square_wave.csv [Content-Type=text/csv]...\n",
            "Copying file://NAB/data/artificialNoAnomaly/art_daily_small_noise.csv [Content-Type=text/csv]...\n",
            "Copying file://NAB/data/artificialWithAnomaly/art_load_balancer_spikes.csv [Content-Type=text/csv]...\n",
            "Copying file://NAB/data/artificialWithAnomaly/art_increase_spike_density.csv [Content-Type=text/csv]...\n",
            "Copying file://NAB/data/artificialWithAnomaly/art_daily_flatmiddle.csv [Content-Type=text/csv]...\n",
            "Copying file://NAB/data/artificialWithAnomaly/art_daily_nojump.csv [Content-Type=text/csv]...\n",
            "Copying file://NAB/data/artificialWithAnomaly/art_daily_jumpsup.csv [Content-Type=text/csv]...\n",
            "Copying file://NAB/data/artificialWithAnomaly/art_daily_jumpsdown.csv [Content-Type=text/csv]...\n",
            "Copying file://NAB/data/realTraffic/TravelTime_451.csv [Content-Type=text/csv]...\n",
            "Copying file://NAB/data/realTraffic/speed_7578.csv [Content-Type=text/csv]...\n",
            "Copying file://NAB/data/realTraffic/speed_6005.csv [Content-Type=text/csv]...\n",
            "Copying file://NAB/data/realTraffic/occupancy_t4013.csv [Content-Type=text/csv]...\n",
            "Copying file://NAB/data/realTraffic/occupancy_6005.csv [Content-Type=text/csv]...\n",
            "Copying file://NAB/data/realTraffic/speed_t4013.csv [Content-Type=text/csv]...\n",
            "Copying file://NAB/data/realTraffic/TravelTime_387.csv [Content-Type=text/csv]...\n",
            "Copying file://NAB/data/realKnownCause/ec2_request_latency_system_failure.csv [Content-Type=text/csv]...\n",
            "Copying file://NAB/data/realKnownCause/ambient_temperature_system_failure.csv [Content-Type=text/csv]...\n",
            "Copying file://NAB/data/realKnownCause/rogue_agent_key_hold.csv [Content-Type=text/csv]...\n",
            "Copying file://NAB/data/realKnownCause/rogue_agent_key_updown.csv [Content-Type=text/csv]...\n",
            "Copying file://NAB/data/realKnownCause/machine_temperature_system_failure.csv [Content-Type=text/csv]...\n",
            "Copying file://NAB/data/realKnownCause/cpu_utilization_asg_misconfiguration.csv [Content-Type=text/csv]...\n",
            "Copying file://NAB/data/realKnownCause/nyc_taxi.csv [Content-Type=text/csv]...\n",
            "Copying file://NAB/data/realAWSCloudwatch/ec2_cpu_utilization_c6585a.csv [Content-Type=text/csv]...\n",
            "Copying file://NAB/data/realAWSCloudwatch/ec2_disk_write_bytes_c0d644.csv [Content-Type=text/csv]...\n",
            "Copying file://NAB/data/realAWSCloudwatch/ec2_cpu_utilization_ac20cd.csv [Content-Type=text/csv]...\n",
            "Copying file://NAB/data/realAWSCloudwatch/grok_asg_anomaly.csv [Content-Type=text/csv]...\n",
            "Copying file://NAB/data/realAWSCloudwatch/elb_request_count_8c0756.csv [Content-Type=text/csv]...\n",
            "Copying file://NAB/data/realAWSCloudwatch/ec2_cpu_utilization_825cc2.csv [Content-Type=text/csv]...\n",
            "Copying file://NAB/data/realAWSCloudwatch/ec2_network_in_5abac7.csv [Content-Type=text/csv]...\n",
            "Copying file://NAB/data/realAWSCloudwatch/iio_us-east-1_i-a2eb1cd9_NetworkIn.csv [Content-Type=text/csv]...\n",
            "Copying file://NAB/data/realAWSCloudwatch/ec2_cpu_utilization_24ae8d.csv [Content-Type=text/csv]...\n",
            "Copying file://NAB/data/realAWSCloudwatch/ec2_disk_write_bytes_1ef3de.csv [Content-Type=text/csv]...\n",
            "Copying file://NAB/data/realAWSCloudwatch/ec2_cpu_utilization_53ea38.csv [Content-Type=text/csv]...\n",
            "Copying file://NAB/data/realAWSCloudwatch/rds_cpu_utilization_cc0c53.csv [Content-Type=text/csv]...\n",
            "Copying file://NAB/data/realAWSCloudwatch/ec2_cpu_utilization_77c1ca.csv [Content-Type=text/csv]...\n",
            "Copying file://NAB/data/realAWSCloudwatch/ec2_cpu_utilization_5f5533.csv [Content-Type=text/csv]...\n",
            "Copying file://NAB/data/realAWSCloudwatch/ec2_network_in_257a54.csv [Content-Type=text/csv]...\n",
            "Copying file://NAB/data/realAWSCloudwatch/ec2_cpu_utilization_fe7f93.csv [Content-Type=text/csv]...\n",
            "Copying file://NAB/data/realAWSCloudwatch/rds_cpu_utilization_e47b3b.csv [Content-Type=text/csv]...\n",
            "Copying file://NAB/data/realTweets/Twitter_volume_AMZN.csv [Content-Type=text/csv]...\n",
            "Copying file://NAB/data/realTweets/Twitter_volume_GOOG.csv [Content-Type=text/csv]...\n",
            "Copying file://NAB/data/realTweets/Twitter_volume_PFE.csv [Content-Type=text/csv]...\n",
            "Copying file://NAB/data/realTweets/Twitter_volume_CVS.csv [Content-Type=text/csv]...\n",
            "Copying file://NAB/data/realTweets/Twitter_volume_UPS.csv [Content-Type=text/csv]...\n",
            "Copying file://NAB/data/realTweets/Twitter_volume_CRM.csv [Content-Type=text/csv]...\n",
            "Copying file://NAB/data/realTweets/Twitter_volume_FB.csv [Content-Type=text/csv]...\n",
            "Copying file://NAB/data/realTweets/Twitter_volume_KO.csv [Content-Type=text/csv]...\n",
            "Copying file://NAB/data/realTweets/Twitter_volume_AAPL.csv [Content-Type=text/csv]...\n",
            "Copying file://NAB/data/realTweets/Twitter_volume_IBM.csv [Content-Type=text/csv]...\n",
            "|\n",
            "==> NOTE: You are performing a sequence of gsutil operations that may\n",
            "run significantly faster if you instead use gsutil -m cp ... Please\n",
            "see the -m section under \"gsutil help options\" for further information\n",
            "about when gsutil -m can be advantageous.\n",
            "\n",
            "\n",
            "Operation completed over 59 objects/9.1 MiB.                                     \n"
          ]
        }
      ]
    },
    {
      "cell_type": "code",
      "metadata": {
        "id": "I0qjQy908uQb",
        "colab": {
          "base_uri": "https://localhost:8080/"
        },
        "outputId": "089dd1a0-9cd3-4026-d9e6-567c72321746"
      },
      "source": [
        "# Find the full file path in gcs for the chosen task\n",
        "import tensorflow as tf\n",
        "\n",
        "chosen_task_folder = 'realKnownCause'\n",
        "chosen_task = 'nyc_taxi'\n",
        "nab_files = tf.io.gfile.glob('{0}/*/*.csv'.format(NAB_DATA_BLOB))\n",
        "chosen_task_file = [file for file in nab_files if chosen_task in file][0]\n",
        "print('The pipeline will be run on the task: {0}'.format(chosen_task))"
      ],
      "execution_count": null,
      "outputs": [
        {
          "output_type": "stream",
          "name": "stdout",
          "text": [
            "The pipeline will be run on the task: nyc_taxi\n"
          ]
        }
      ]
    },
    {
      "cell_type": "markdown",
      "metadata": {
        "id": "0zQBTufbGuPl"
      },
      "source": [
        "### Run the pipeline\n",
        "\n",
        "Finally, we run the pipeline. Please wait until the run has completed before proceeding to the next steps.\n",
        "\n",
        "You will see a link after \"See the Pipeline job\". Click on this to track progress. You should see something like this:\n",
        "![image.png](data:image/png;base64,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)"
      ]
    },
    {
      "cell_type": "code",
      "metadata": {
        "id": "BLwijes3q1Qf",
        "colab": {
          "base_uri": "https://localhost:8080/",
          "height": 556
        },
        "outputId": "8f8d5788-a159-46f5-ba47-1cbe1e542f17"
      },
      "source": [
        "parameter_values = {\n",
        "  'input_url': chosen_task_file,\n",
        "  'memory_limit': '50G',\n",
        "  'seed': 0,\n",
        "}\n",
        "run_pipeline(pipeline, parameter_values=parameter_values)"
      ],
      "execution_count": null,
      "outputs": [
        {
          "output_type": "stream",
          "name": "stderr",
          "text": [
            "/usr/local/lib/python3.7/dist-packages/kfp/v2/compiler/compiler.py:1281: FutureWarning: APIs imported from the v1 namespace (e.g. kfp.dsl, kfp.components, etc) will not be supported by the v2 compiler since v2.0.0\n",
            "  category=FutureWarning,\n",
            "/usr/local/lib/python3.7/dist-packages/kfp/dsl/__init__.py:32: FutureWarning: `kfp.dsl.importer` is a deprecated alias and will be removed in KFP v2.0. Please import from `kfp.v2.dsl` instead.\n",
            "  category=FutureWarning)\n",
            "/usr/local/lib/python3.7/dist-packages/kfp/v2/google/client/client.py:173: FutureWarning: AIPlatformClient will be deprecated in v2.0.0. Please use PipelineJob https://googleapis.dev/python/aiplatform/latest/_modules/google/cloud/aiplatform/pipeline_jobs.html in Vertex SDK. Install the SDK using \"pip install google-cloud-aiplatform\"\n",
            "  category=FutureWarning,\n"
          ]
        },
        {
          "output_type": "error",
          "ename": "HttpError",
          "evalue": "ignored",
          "traceback": [
            "\u001b[0;31m---------------------------------------------------------------------------\u001b[0m",
            "\u001b[0;31mHttpError\u001b[0m                                 Traceback (most recent call last)",
            "\u001b[0;32m<ipython-input-15-b949855eb624>\u001b[0m in \u001b[0;36m<module>\u001b[0;34m()\u001b[0m\n\u001b[1;32m      4\u001b[0m   \u001b[0;34m'seed'\u001b[0m\u001b[0;34m:\u001b[0m \u001b[0;36m0\u001b[0m\u001b[0;34m,\u001b[0m\u001b[0;34m\u001b[0m\u001b[0;34m\u001b[0m\u001b[0m\n\u001b[1;32m      5\u001b[0m }\n\u001b[0;32m----> 6\u001b[0;31m \u001b[0mrun_pipeline\u001b[0m\u001b[0;34m(\u001b[0m\u001b[0mpipeline\u001b[0m\u001b[0;34m,\u001b[0m \u001b[0mparameter_values\u001b[0m\u001b[0;34m=\u001b[0m\u001b[0mparameter_values\u001b[0m\u001b[0;34m)\u001b[0m\u001b[0;34m\u001b[0m\u001b[0;34m\u001b[0m\u001b[0m\n\u001b[0m",
            "\u001b[0;32m<ipython-input-10-e54330518b47>\u001b[0m in \u001b[0;36mrun_pipeline\u001b[0;34m(pipeline, parameter_values, enable_caching)\u001b[0m\n\u001b[1;32m     22\u001b[0m     \u001b[0mpipeline_root\u001b[0m\u001b[0;34m=\u001b[0m\u001b[0mPIPELINE_ROOT\u001b[0m\u001b[0;34m,\u001b[0m\u001b[0;34m\u001b[0m\u001b[0;34m\u001b[0m\u001b[0m\n\u001b[1;32m     23\u001b[0m     \u001b[0mparameter_values\u001b[0m\u001b[0;34m=\u001b[0m\u001b[0mparameter_values\u001b[0m\u001b[0;34m,\u001b[0m\u001b[0;34m\u001b[0m\u001b[0;34m\u001b[0m\u001b[0m\n\u001b[0;32m---> 24\u001b[0;31m     enable_caching=enable_caching)\n\u001b[0m",
            "\u001b[0;32m/usr/local/lib/python3.7/dist-packages/kfp/v2/google/client/client.py\u001b[0m in \u001b[0;36mcreate_run_from_job_spec\u001b[0;34m(self, job_spec_path, job_id, pipeline_root, parameter_values, enable_caching, cmek, service_account, network, labels)\u001b[0m\n\u001b[1;32m    356\u001b[0m         return self._submit_job(\n\u001b[1;32m    357\u001b[0m             \u001b[0mjob_spec\u001b[0m\u001b[0;34m=\u001b[0m\u001b[0mjob_spec\u001b[0m\u001b[0;34m,\u001b[0m\u001b[0;34m\u001b[0m\u001b[0;34m\u001b[0m\u001b[0m\n\u001b[0;32m--> 358\u001b[0;31m             \u001b[0mjob_id\u001b[0m\u001b[0;34m=\u001b[0m\u001b[0mjob_id\u001b[0m\u001b[0;34m,\u001b[0m\u001b[0;34m\u001b[0m\u001b[0;34m\u001b[0m\u001b[0m\n\u001b[0m\u001b[1;32m    359\u001b[0m         )\n\u001b[1;32m    360\u001b[0m \u001b[0;34m\u001b[0m\u001b[0m\n",
            "\u001b[0;32m/usr/local/lib/python3.7/dist-packages/kfp/v2/google/client/client.py\u001b[0m in \u001b[0;36m_submit_job\u001b[0;34m(self, job_spec, job_id)\u001b[0m\n\u001b[1;32m    234\u001b[0m         request = self._api_client.projects().locations().pipelineJobs().create(\n\u001b[1;32m    235\u001b[0m             body=job_spec, pipelineJobId=job_id, parent=self._parent)\n\u001b[0;32m--> 236\u001b[0;31m         \u001b[0mresponse\u001b[0m \u001b[0;34m=\u001b[0m \u001b[0mrequest\u001b[0m\u001b[0;34m.\u001b[0m\u001b[0mexecute\u001b[0m\u001b[0;34m(\u001b[0m\u001b[0;34m)\u001b[0m\u001b[0;34m\u001b[0m\u001b[0;34m\u001b[0m\u001b[0m\n\u001b[0m\u001b[1;32m    237\u001b[0m         \u001b[0mjob_id\u001b[0m \u001b[0;34m=\u001b[0m \u001b[0m_extract_job_id\u001b[0m\u001b[0;34m(\u001b[0m\u001b[0mresponse\u001b[0m\u001b[0;34m[\u001b[0m\u001b[0;34m'name'\u001b[0m\u001b[0;34m]\u001b[0m\u001b[0;34m)\u001b[0m\u001b[0;34m\u001b[0m\u001b[0;34m\u001b[0m\u001b[0m\n\u001b[1;32m    238\u001b[0m         \u001b[0;32mif\u001b[0m \u001b[0mjob_id\u001b[0m\u001b[0;34m:\u001b[0m\u001b[0;34m\u001b[0m\u001b[0;34m\u001b[0m\u001b[0m\n",
            "\u001b[0;32m/usr/local/lib/python3.7/dist-packages/googleapiclient/_helpers.py\u001b[0m in \u001b[0;36mpositional_wrapper\u001b[0;34m(*args, **kwargs)\u001b[0m\n\u001b[1;32m    132\u001b[0m                 \u001b[0;32melif\u001b[0m \u001b[0mpositional_parameters_enforcement\u001b[0m \u001b[0;34m==\u001b[0m \u001b[0mPOSITIONAL_WARNING\u001b[0m\u001b[0;34m:\u001b[0m\u001b[0;34m\u001b[0m\u001b[0;34m\u001b[0m\u001b[0m\n\u001b[1;32m    133\u001b[0m                     \u001b[0mlogger\u001b[0m\u001b[0;34m.\u001b[0m\u001b[0mwarning\u001b[0m\u001b[0;34m(\u001b[0m\u001b[0mmessage\u001b[0m\u001b[0;34m)\u001b[0m\u001b[0;34m\u001b[0m\u001b[0;34m\u001b[0m\u001b[0m\n\u001b[0;32m--> 134\u001b[0;31m             \u001b[0;32mreturn\u001b[0m \u001b[0mwrapped\u001b[0m\u001b[0;34m(\u001b[0m\u001b[0;34m*\u001b[0m\u001b[0margs\u001b[0m\u001b[0;34m,\u001b[0m \u001b[0;34m**\u001b[0m\u001b[0mkwargs\u001b[0m\u001b[0;34m)\u001b[0m\u001b[0;34m\u001b[0m\u001b[0;34m\u001b[0m\u001b[0m\n\u001b[0m\u001b[1;32m    135\u001b[0m \u001b[0;34m\u001b[0m\u001b[0m\n\u001b[1;32m    136\u001b[0m         \u001b[0;32mreturn\u001b[0m \u001b[0mpositional_wrapper\u001b[0m\u001b[0;34m\u001b[0m\u001b[0;34m\u001b[0m\u001b[0m\n",
            "\u001b[0;32m/usr/local/lib/python3.7/dist-packages/googleapiclient/http.py\u001b[0m in \u001b[0;36mexecute\u001b[0;34m(self, http, num_retries)\u001b[0m\n\u001b[1;32m    913\u001b[0m             \u001b[0mcallback\u001b[0m\u001b[0;34m(\u001b[0m\u001b[0mresp\u001b[0m\u001b[0;34m)\u001b[0m\u001b[0;34m\u001b[0m\u001b[0;34m\u001b[0m\u001b[0m\n\u001b[1;32m    914\u001b[0m         \u001b[0;32mif\u001b[0m \u001b[0mresp\u001b[0m\u001b[0;34m.\u001b[0m\u001b[0mstatus\u001b[0m \u001b[0;34m>=\u001b[0m \u001b[0;36m300\u001b[0m\u001b[0;34m:\u001b[0m\u001b[0;34m\u001b[0m\u001b[0;34m\u001b[0m\u001b[0m\n\u001b[0;32m--> 915\u001b[0;31m             \u001b[0;32mraise\u001b[0m \u001b[0mHttpError\u001b[0m\u001b[0;34m(\u001b[0m\u001b[0mresp\u001b[0m\u001b[0;34m,\u001b[0m \u001b[0mcontent\u001b[0m\u001b[0;34m,\u001b[0m \u001b[0muri\u001b[0m\u001b[0;34m=\u001b[0m\u001b[0mself\u001b[0m\u001b[0;34m.\u001b[0m\u001b[0muri\u001b[0m\u001b[0;34m)\u001b[0m\u001b[0;34m\u001b[0m\u001b[0;34m\u001b[0m\u001b[0m\n\u001b[0m\u001b[1;32m    916\u001b[0m         \u001b[0;32mreturn\u001b[0m \u001b[0mself\u001b[0m\u001b[0;34m.\u001b[0m\u001b[0mpostproc\u001b[0m\u001b[0;34m(\u001b[0m\u001b[0mresp\u001b[0m\u001b[0;34m,\u001b[0m \u001b[0mcontent\u001b[0m\u001b[0;34m)\u001b[0m\u001b[0;34m\u001b[0m\u001b[0;34m\u001b[0m\u001b[0m\n\u001b[1;32m    917\u001b[0m \u001b[0;34m\u001b[0m\u001b[0m\n",
            "\u001b[0;31mHttpError\u001b[0m: <HttpError 400 when requesting https://europe-west1-aiplatform.googleapis.com/v1beta1/projects/kfproject-351309/locations/europe-west1/pipelineJobs?pipelineJobId=tfp-anomaly-detection-20220525104316-20220525110249&alt=json returned \"You do not have permission to act as service_account: 834876434002-compute@developer.gserviceaccount.com. (or it may not exist).\". Details: \"You do not have permission to act as service_account: 834876434002-compute@developer.gserviceaccount.com. (or it may not exist).\">"
          ]
        }
      ]
    },
    {
      "cell_type": "markdown",
      "source": [
        "Once the training job has finished you should see each stage has a green tick on the linked web page. You can navigate to the bottom box (`postprocess`) to get the link for the output\n"
      ],
      "metadata": {
        "id": "siUISy7QQNep"
      }
    },
    {
      "cell_type": "markdown",
      "metadata": {
        "id": "skkJf62AGIe8"
      },
      "source": [
        "### Download the results locally\n",
        "\n",
        "Copy the GCS file path from the final `postprocess` step of the pipeline below. Here we will save this output locally for visualization and scoring."
      ]
    },
    {
      "cell_type": "code",
      "metadata": {
        "id": "-GQhGfxh6bvv"
      },
      "source": [
        "import pandas as pd\n",
        "import numpy as np\n",
        "import json"
      ],
      "execution_count": null,
      "outputs": []
    },
    {
      "cell_type": "code",
      "metadata": {
        "id": "pzvNg8qeDU0p"
      },
      "source": [
        "gcs_file = '[your-pipeline-output]' # @param {type:'string'}\n",
        "output_file = '/content/{0}-{1}.csv'.format(chosen_task, TIMESTAMP)\n",
        "!gsutil cp $gcs_file $output_file"
      ],
      "execution_count": null,
      "outputs": []
    },
    {
      "cell_type": "code",
      "metadata": {
        "id": "6uBGVh4rDgc3"
      },
      "source": [
        "# Collect targets specifically for the chosen task\n",
        "targets = json.load(open('/content/NAB/labels/combined_labels.json'))\n",
        "chosen_task_targets = [targets[key] for key in targets if chosen_task in key][0]"
      ],
      "execution_count": null,
      "outputs": []
    },
    {
      "cell_type": "markdown",
      "metadata": {
        "id": "JittvMUhDYgO"
      },
      "source": [
        "### Visualize the results\n",
        "\n",
        "Here we will plot the forecast distribution outputted by the pipeline, the points flagged as anomalies (red), and the ground truth targets (green). The graph is plotted with daily granularity due to the resampling done during preprocessing.\n",
        "\n",
        "Note how the algorithm correctly identifies December 25th as an anomaly."
      ]
    },
    {
      "cell_type": "code",
      "metadata": {
        "id": "MsiYGrpFDeMS"
      },
      "source": [
        "#@title Plotting setup\n",
        "from matplotlib import pylab as plt\n",
        "from matplotlib.lines import Line2D\n",
        "\n",
        "def plot_predictions(predictions: pd.DataFrame, annotation_fn: Callable = lambda timestamp: timestamp) -> None:\n",
        "  \"\"\"\n",
        "    Plots the time series, forecast, detected anomalies, and residuals.\n",
        "\n",
        "    Args:\n",
        "      predictions: The output of the anomaly detection algorithm.\n",
        "  \"\"\"\n",
        "  # Drop NaN values during plotting\n",
        "  predictions = predictions.dropna(how='any')\n",
        "  predictions = predictions.reset_index()\n",
        "\n",
        "  timestamp = pd.to_datetime(predictions['timestamp'], format='%Y-%m-%d')\n",
        "  # Plot the value from predictions which may be\n",
        "  # an aggregation of the original value\n",
        "  value = np.array(predictions['value_predictions'])\n",
        "  lower_limit = np.array(predictions['lower_limit'])\n",
        "  upper_limit = np.array(predictions['upper_limit'])\n",
        "  mean = np.array(predictions['mean'])\n",
        "  anomalies = np.array(predictions['label']).nonzero()[0]\n",
        "  targets = []\n",
        "  if 'target' in predictions:\n",
        "    targets = np.array(predictions['target']).nonzero()[0]\n",
        "\n",
        "  fig = plt.figure(figsize=(10, 5), constrained_layout=True)\n",
        "  spec = fig.add_gridspec(ncols=1, nrows=2, height_ratios=[2., 1.])\n",
        "  series_ax = fig.add_subplot(spec[0, 0])\n",
        "  residuals_ax = fig.add_subplot(spec[1, 0], sharex=series_ax)\n",
        "\n",
        "  # Plot anomalies on series_ax\n",
        "  series_ax.plot(\n",
        "      timestamp,\n",
        "      value,\n",
        "      color='black',\n",
        "      alpha=0.6)\n",
        "  series_ax.fill_between(\n",
        "      timestamp,\n",
        "      lower_limit,\n",
        "      upper_limit,\n",
        "      color='tab:blue',\n",
        "      alpha=0.3)\n",
        "\n",
        "  for anomaly_idx in anomalies:\n",
        "    x = timestamp[anomaly_idx]\n",
        "    y = value[anomaly_idx]\n",
        "    series_ax.scatter(x, y, s=100, alpha=0.4, c='red')\n",
        "  \n",
        "  for target_idx in targets:\n",
        "    x = timestamp[target_idx]\n",
        "    y = value[target_idx]\n",
        "    series_ax.scatter(x, y, s=100, alpha=0.4, c='green')\n",
        "    series_ax.annotate(annotation_fn(x), (x, y))\n",
        "\n",
        "  # Plot residuals on residuals_ax\n",
        "  time_delta = timestamp[1] - timestamp[0]\n",
        "  residuals_ax.bar(\n",
        "      timestamp,\n",
        "      height=upper_limit - lower_limit,\n",
        "      bottom=lower_limit - mean,\n",
        "      width=time_delta,\n",
        "      align='center',\n",
        "      color='tab:blue',\n",
        "      alpha=0.3)\n",
        "  residuals_ax.bar(\n",
        "      timestamp,\n",
        "      width=time_delta,\n",
        "      height=value - mean,\n",
        "      align='center',\n",
        "      color='black',\n",
        "      alpha=0.6)\n",
        "\n",
        "  # Set up grid styling\n",
        "  series_ax.set_ylabel('Original series')\n",
        "  residuals_ax.set_ylabel('Residuals')\n",
        "  series_ax.grid(True, color='whitesmoke')\n",
        "  residuals_ax.grid(True, color='whitesmoke')\n",
        "  series_ax.set_axisbelow(True)\n",
        "  residuals_ax.set_axisbelow(True)\n",
        "\n",
        "  # Add title and legend\n",
        "  series_ax.set_title('TFP STS model forecast, anomalies, and residuals for {0}'.format(chosen_task))\n",
        "  create_legend_label = lambda label, color: Line2D([0], [0], marker='o', color='w', label=label, markerfacecolor=color, markersize=10)\n",
        "  legend_elements = [create_legend_label(label, color) for label, color in [('predicted anomaly', 'red'), ('target', 'green')]]\n",
        "  series_ax.legend(handles=legend_elements, loc='lower right')"
      ],
      "execution_count": null,
      "outputs": []
    },
    {
      "cell_type": "code",
      "metadata": {
        "id": "QETIRiPb6q1o"
      },
      "source": [
        "# Round target timestamps to day for plotting\n",
        "round_to_day = lambda timestamp: timestamp.split()[0]\n",
        "rounded_targets = [round_to_day(timestamp) for timestamp in chosen_task_targets]\n",
        "rounded_targets = set(rounded_targets)\n",
        "predictions = pd.read_csv(output_file)\n",
        "predictions['target'] = predictions.apply(lambda df: round_to_day(df['timestamp']) in rounded_targets, axis=1)"
      ],
      "execution_count": null,
      "outputs": []
    },
    {
      "cell_type": "code",
      "metadata": {
        "id": "im04k2PeDku0"
      },
      "source": [
        "# Change the start and end to view different slices of the prediction\n",
        "start, end = 8000, 9000\n",
        "round_annotation = lambda timestamp: timestamp.date()\n",
        "plot_predictions(predictions.iloc[start:end], round_annotation)"
      ],
      "execution_count": null,
      "outputs": []
    }
  ]
}