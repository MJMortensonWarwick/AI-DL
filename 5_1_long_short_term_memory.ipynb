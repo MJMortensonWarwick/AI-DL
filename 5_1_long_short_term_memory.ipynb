{
  "nbformat": 4,
  "nbformat_minor": 0,
  "metadata": {
    "colab": {
      "name": "Untitled13.ipynb",
      "provenance": [],
      "authorship_tag": "ABX9TyO9GGl88R4twrp/lan+cWo7",
      "include_colab_link": true
    },
    "kernelspec": {
      "name": "python3",
      "display_name": "Python 3"
    },
    "language_info": {
      "name": "python"
    },
    "accelerator": "GPU"
  },
  "cells": [
    {
      "cell_type": "markdown",
      "metadata": {
        "id": "view-in-github",
        "colab_type": "text"
      },
      "source": [
        "<a href=\"https://colab.research.google.com/github/MJMortensonWarwick/AI-DL/blob/main/5_1_long_short_term_memory.ipynb\" target=\"_parent\"><img src=\"https://colab.research.google.com/assets/colab-badge.svg\" alt=\"Open In Colab\"/></a>"
      ]
    },
    {
      "cell_type": "markdown",
      "source": [
        "# Long Short Term Memory (LSTM)\n",
        "Ths tutorial runs LSTM on the [Reuters' news dataset](https://keras.io/api/datasets/reuters/#getwordindex-function). The dataset is all text and articles are in 46 classes/categories. "
      ],
      "metadata": {
        "id": "8fjXxqBetwUd"
      }
    },
    {
      "cell_type": "code",
      "execution_count": 1,
      "metadata": {
        "id": "RECS4gD_XtAI"
      },
      "outputs": [],
      "source": [
        "import tensorflow as tf\n",
        "from tensorflow import keras\n",
        "from tensorflow.keras.datasets import reuters\n",
        "import numpy as np\n",
        "from tensorflow.keras.preprocessing.sequence import pad_sequences"
      ]
    },
    {
      "cell_type": "markdown",
      "source": [
        "We'll load the data from Keras. We set the maximum length of each article to be 200 words (everything else is ignored) and the vocabulary size to be 4,000. This means we keep only the 4,00 most common words and all others are given the arbitrary token of 2 (see the dataset docs):"
      ],
      "metadata": {
        "id": "SKDLeHHuurku"
      }
    },
    {
      "cell_type": "code",
      "source": [
        "(X_train, Y_train), (X_test, Y_test) = reuters.load_data(maxlen=200, num_words=4000)"
      ],
      "metadata": {
        "colab": {
          "base_uri": "https://localhost:8080/"
        },
        "id": "qbfdQ66VYWLS",
        "outputId": "e61770bf-0657-49b4-ef8d-97b48dc84a8b"
      },
      "execution_count": 2,
      "outputs": [
        {
          "output_type": "stream",
          "name": "stdout",
          "text": [
            "Downloading data from https://storage.googleapis.com/tensorflow/tf-keras-datasets/reuters.npz\n",
            "2113536/2110848 [==============================] - 0s 0us/step\n",
            "2121728/2110848 [==============================] - 0s 0us/step\n"
          ]
        }
      ]
    },
    {
      "cell_type": "markdown",
      "source": [
        "The data is already tokenised (see DSML materials if this is not clear). We have a JSON file from the library which allows us to translate tokens to the original text:"
      ],
      "metadata": {
        "id": "PvmxlZk2vx-o"
      }
    },
    {
      "cell_type": "code",
      "source": [
        "words = reuters.get_word_index(path=\"reuters_word_index.json\")"
      ],
      "metadata": {
        "colab": {
          "base_uri": "https://localhost:8080/"
        },
        "id": "ZOeVon4MZCbq",
        "outputId": "9a1c2e2f-e9b7-49df-88a3-36fcf33f0692"
      },
      "execution_count": 3,
      "outputs": [
        {
          "output_type": "stream",
          "name": "stdout",
          "text": [
            "Downloading data from https://storage.googleapis.com/tensorflow/tf-keras-datasets/reuters_word_index.json\n",
            "557056/550378 [==============================] - 0s 0us/step\n",
            "565248/550378 [==============================] - 0s 0us/step\n"
          ]
        }
      ]
    },
    {
      "cell_type": "code",
      "source": [
        "print(f'# of Training Samples: {len(X_train)}')\n",
        "print(f'# of Test Samples: {len(X_test)}')"
      ],
      "metadata": {
        "colab": {
          "base_uri": "https://localhost:8080/"
        },
        "id": "ybtgfS2KZlhy",
        "outputId": "0147e087-491d-487c-d27d-cb47eb791463"
      },
      "execution_count": 4,
      "outputs": [
        {
          "output_type": "stream",
          "name": "stdout",
          "text": [
            "# of Training Samples: 7076\n",
            "# of Test Samples: 1770\n"
          ]
        }
      ]
    },
    {
      "cell_type": "code",
      "source": [
        "index_to_word = {}\n",
        "for key, value in words.items():\n",
        "    index_to_word[value] = key\n",
        "print(' '.join([index_to_word[x] for x in X_train[0]]))\n",
        "print(Y_train[0])"
      ],
      "metadata": {
        "colab": {
          "base_uri": "https://localhost:8080/"
        },
        "id": "Ez_Vegs7cOzx",
        "outputId": "9e1ab663-9d00-47f1-c585-4239539f8768"
      },
      "execution_count": 5,
      "outputs": [
        {
          "output_type": "stream",
          "name": "stdout",
          "text": [
            "the of of mln loss for plc said at only ended said commonwealth could 1 traders now april 0 a after said from 1985 and from foreign 000 april 0 prices its account year a but in this mln home an states earlier and rise and revs vs 000 its 16 vs 000 a but 3 of oils several and shareholders and dividend vs 000 its all 4 vs 000 1 mln agreed largely april 0 are 2 states will billion total and against 000 pct dlrs\n",
            "3\n"
          ]
        }
      ]
    },
    {
      "cell_type": "markdown",
      "source": [
        "Next we will employ padding. LSTM will expect all the inputs to be the same size, so \"pad_sequences()\" to add zeros to the end of any article less than 200 words (max words earlier means no article can be greater than 200 words):"
      ],
      "metadata": {
        "id": "qmQdhIYjwDf_"
      }
    },
    {
      "cell_type": "code",
      "source": [
        "padding_type = 'post'\n",
        "\n",
        "X_train = pad_sequences(X_train, padding=padding_type)\n",
        "X_test = pad_sequences(X_test, padding=padding_type)"
      ],
      "metadata": {
        "id": "VieBGPBoeZBi"
      },
      "execution_count": 6,
      "outputs": []
    },
    {
      "cell_type": "markdown",
      "source": [
        "Test its worked on a random example:"
      ],
      "metadata": {
        "id": "5CV6Btvw7kxv"
      }
    },
    {
      "cell_type": "code",
      "source": [
        "X_train[5]"
      ],
      "metadata": {
        "colab": {
          "base_uri": "https://localhost:8080/"
        },
        "id": "3NwIvfz8e0BD",
        "outputId": "fd4d5aff-f32d-4fbb-f0ef-404087313c34"
      },
      "execution_count": 7,
      "outputs": [
        {
          "output_type": "execute_result",
          "data": {
            "text/plain": [
              "array([   1,   56,    2,  925,  149,    8,   16,   23,  931, 3875,   25,\n",
              "        116,    5,  165,   15,   10,   67,   13,   12,   12,   11,    2,\n",
              "        400,   81,   79,  457,  145,   22,  331,   28, 3026,  331,   61,\n",
              "       3609, 2097,    2,   79,   64,   85, 1863,   84,   22,   44,    2,\n",
              "       2275,   79,  296, 1384,  157,    2,    8,   16,   23, 3875,    4,\n",
              "        116,    6,  837,    2,    6, 3834,   31,  248, 1032,    2,    4,\n",
              "       1618,    5,   37,   38, 1639,   27,  358,   37,   38,    2,    9,\n",
              "          6,    2,    4,  316,    9,  662,    5,    4,  765,    5,  291,\n",
              "         58,   60, 2660, 1067,  136,    4,  384,  292,  270,  120,   17,\n",
              "         12,    0,    0,    0,    0,    0,    0,    0,    0,    0,    0,\n",
              "          0,    0,    0,    0,    0,    0,    0,    0,    0,    0,    0,\n",
              "          0,    0,    0,    0,    0,    0,    0,    0,    0,    0,    0,\n",
              "          0,    0,    0,    0,    0,    0,    0,    0,    0,    0,    0,\n",
              "          0,    0,    0,    0,    0,    0,    0,    0,    0,    0,    0,\n",
              "          0,    0,    0,    0,    0,    0,    0,    0,    0,    0,    0,\n",
              "          0,    0,    0,    0,    0,    0,    0,    0,    0,    0,    0,\n",
              "          0,    0,    0,    0,    0,    0,    0,    0,    0,    0,    0,\n",
              "          0,    0,    0,    0,    0,    0,    0,    0,    0,    0,    0,\n",
              "          0], dtype=int32)"
            ]
          },
          "metadata": {},
          "execution_count": 7
        }
      ]
    },
    {
      "cell_type": "markdown",
      "source": [
        "now we can build our model. We'll start with an embedding layer (like Word2Vec, autoencoders, etc.) that will take us from a vocab of 4,000 (effectively the input shape) to an embedded (latent) space of size 256. We then have our LSTM layer - inside a bi-directional layer (remember this isn't pure feed-forward). After that its all as we've seen before ... 46 layers at the end represents the 46 classes."
      ],
      "metadata": {
        "id": "15otH0bc7qFS"
      }
    },
    {
      "cell_type": "code",
      "source": [
        "from keras.layers import Embedding, Bidirectional, Activation, Dense, Dropout, LSTM\n",
        "\n",
        "model = keras.models.Sequential()"
      ],
      "metadata": {
        "id": "70U9vQIFfzci"
      },
      "execution_count": 8,
      "outputs": []
    },
    {
      "cell_type": "code",
      "source": [
        "# Add an Embedding layer expecting input vocab of size 5000, and output embedding dimension of size 64 we set at the top\n",
        "model.add(Embedding(4000, 256))\n",
        "model.add(Bidirectional(LSTM(256)))\n",
        "model.add(Activation('relu'))\n",
        "model.add(Dropout(0.5))\n",
        "model.add(Dense(46))\n",
        "model.add(Activation('softmax'))\n",
        "\n",
        "model.summary()"
      ],
      "metadata": {
        "colab": {
          "base_uri": "https://localhost:8080/"
        },
        "id": "BBD5Hg9mm0gb",
        "outputId": "35702dc9-8543-41b5-f34e-55a34ae1530f"
      },
      "execution_count": 9,
      "outputs": [
        {
          "output_type": "stream",
          "name": "stdout",
          "text": [
            "Model: \"sequential\"\n",
            "_________________________________________________________________\n",
            " Layer (type)                Output Shape              Param #   \n",
            "=================================================================\n",
            " embedding (Embedding)       (None, None, 256)         1024000   \n",
            "                                                                 \n",
            " bidirectional (Bidirectiona  (None, 512)              1050624   \n",
            " l)                                                              \n",
            "                                                                 \n",
            " activation (Activation)     (None, 512)               0         \n",
            "                                                                 \n",
            " dropout (Dropout)           (None, 512)               0         \n",
            "                                                                 \n",
            " dense (Dense)               (None, 46)                23598     \n",
            "                                                                 \n",
            " activation_1 (Activation)   (None, 46)                0         \n",
            "                                                                 \n",
            "=================================================================\n",
            "Total params: 2,098,222\n",
            "Trainable params: 2,098,222\n",
            "Non-trainable params: 0\n",
            "_________________________________________________________________\n"
          ]
        }
      ]
    },
    {
      "cell_type": "markdown",
      "source": [
        "Next, we compile run and evaluate our model:"
      ],
      "metadata": {
        "id": "Z2Pl6YBO-Dtv"
      }
    },
    {
      "cell_type": "code",
      "source": [
        "model.compile(loss='sparse_categorical_crossentropy', optimizer='adam', metrics=['accuracy'])\n",
        "\n",
        "history = model.fit(X_train, Y_train, epochs=10, verbose=2)"
      ],
      "metadata": {
        "colab": {
          "base_uri": "https://localhost:8080/"
        },
        "id": "PYeyZ7_EgSOM",
        "outputId": "c323fb45-0938-4e3b-d534-a18a530c8e72"
      },
      "execution_count": 10,
      "outputs": [
        {
          "output_type": "stream",
          "name": "stdout",
          "text": [
            "Epoch 1/10\n",
            "222/222 - 32s - loss: 1.7287 - accuracy: 0.5800 - 32s/epoch - 146ms/step\n",
            "Epoch 2/10\n",
            "222/222 - 23s - loss: 1.2636 - accuracy: 0.6998 - 23s/epoch - 105ms/step\n",
            "Epoch 3/10\n",
            "222/222 - 23s - loss: 1.0310 - accuracy: 0.7494 - 23s/epoch - 106ms/step\n",
            "Epoch 4/10\n",
            "222/222 - 24s - loss: 0.8725 - accuracy: 0.7876 - 24s/epoch - 106ms/step\n",
            "Epoch 5/10\n",
            "222/222 - 23s - loss: 0.7182 - accuracy: 0.8265 - 23s/epoch - 105ms/step\n",
            "Epoch 6/10\n",
            "222/222 - 23s - loss: 0.6087 - accuracy: 0.8553 - 23s/epoch - 106ms/step\n",
            "Epoch 7/10\n",
            "222/222 - 23s - loss: 0.5205 - accuracy: 0.8806 - 23s/epoch - 106ms/step\n",
            "Epoch 8/10\n",
            "222/222 - 23s - loss: 0.4436 - accuracy: 0.8968 - 23s/epoch - 105ms/step\n",
            "Epoch 9/10\n",
            "222/222 - 23s - loss: 0.3964 - accuracy: 0.9052 - 23s/epoch - 105ms/step\n",
            "Epoch 10/10\n",
            "222/222 - 23s - loss: 0.3386 - accuracy: 0.9210 - 23s/epoch - 105ms/step\n"
          ]
        }
      ]
    },
    {
      "cell_type": "code",
      "source": [
        "test_loss, test_accuracy = model.evaluate(X_test, Y_test, verbose=2)\n",
        "print(f'\\nTest accuracy: {test_accuracy}')"
      ],
      "metadata": {
        "colab": {
          "base_uri": "https://localhost:8080/"
        },
        "id": "IVkMbRz8iagZ",
        "outputId": "e0e4b983-9002-465b-dc2e-a96fdf7d9408"
      },
      "execution_count": 11,
      "outputs": [
        {
          "output_type": "stream",
          "name": "stdout",
          "text": [
            "56/56 - 3s - loss: 0.9388 - accuracy: 0.8119 - 3s/epoch - 53ms/step\n",
            "\n",
            "Test accuracy: 0.81186443567276\n"
          ]
        }
      ]
    },
    {
      "cell_type": "code",
      "source": [
        "import matplotlib.pyplot as plt\n",
        "\n",
        "plt.plot(history.history['accuracy'], label='accuracy')\n",
        "plt.xlabel('Epoch')\n",
        "plt.ylabel('accuracy')\n",
        "plt.ylim([0.5, 1])\n",
        "plt.legend(loc='lower right')"
      ],
      "metadata": {
        "colab": {
          "base_uri": "https://localhost:8080/",
          "height": 301
        },
        "id": "C3wYCUNaj5Ak",
        "outputId": "b29d0c27-4686-4a0a-cc9b-aeccfb4b04d2"
      },
      "execution_count": 12,
      "outputs": [
        {
          "output_type": "execute_result",
          "data": {
            "text/plain": [
              "<matplotlib.legend.Legend at 0x7fae33cf4b10>"
            ]
          },
          "metadata": {},
          "execution_count": 12
        },
        {
          "output_type": "display_data",
          "data": {
            "text/plain": [
              "<Figure size 432x288 with 1 Axes>"
            ],
            "image/png": "[encoded data removed]"
          },
          "metadata": {
            "needs_background": "light"
          }
        }
      ]
    },
    {
      "cell_type": "markdown",
      "source": [
        "Given there are 46 classes, 81% accuracy on test is a good start!"
      ],
      "metadata": {
        "id": "svU1ekzt-IGA"
      }
    }
  ]
}