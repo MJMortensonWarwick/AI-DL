{
 "cells": [
  {
   "cell_type": "markdown",
   "metadata": {},
   "source": [
    "# Bayesian Statistics and Machine Learning (part one)"
   ]
  },
  {
   "cell_type": "markdown",
   "metadata": {},
   "source": [
    "This Notebook will introduce Bayesian methods in basic statistical analysis to pave the way for understanding the use of Bayesian methods in deep learning, which is an increasingly important practice in the current State-of-the-Art (SOTA).\n",
    "\n",
    "To begin with we will start with Bayes' Theorem:\n",
    "<br><br>\n",
    "$ \\huge P(A|B) = \\frac{P(B|A) ~ P(A)}{P(B)} $\n",
    "<br><br>\n",
    "Let's breakdown this down:\n",
    "* $ P(A|B) $ (the posterior): This is the thing we are interested in measuring. The \"|\" means \"conditional on\" so in this case we are asking what the probability is of A given that B is True\n",
    "* $ P(B|A) $ (the likelihood): Formally again we are computing the probability of B given A being true. This is typically the data we have. \n",
    "* $ P(A) $ (the prior): This is the probability of A in any circumstances (i.e. without any conditional). In practical terms this would be our belief as to the probability of A before looking at our data.\n",
    "* $ P(B) $ (the evidence): This is the tricky bit! Essentially the is just a denominator that means that $ P(A|B) $ is presented as a probability (bounded between zero and one). Essentially this is all possible outcomes that comprise $ P(B) $ to include $ P(B|A) ~ P(A) $.\n",
    "\n",
    "So you are probably none the wiser at this point so perhaps it's better to play out a scenario. Let's imagine that we are looking to calculate the probability that someone would pass the DSML module given that they spent 40 hours or more on the PMA ... so in other words:\n",
    "<br><br>\n",
    "$ \\huge P(pass|40hrs) = \\frac{P(40hrs|pass) ~ P(pass)}{P(40hrs)} $\n",
    "<br><br>\n",
    "We can add in some data:"
   ]
  },
  {
   "cell_type": "code",
   "execution_count": 1,
   "metadata": {},
   "outputs": [
    {
     "data": {
      "text/html": [
       "<div>\n",
       "<style scoped>\n",
       "    .dataframe tbody tr th:only-of-type {\n",
       "        vertical-align: middle;\n",
       "    }\n",
       "\n",
       "    .dataframe tbody tr th {\n",
       "        vertical-align: top;\n",
       "    }\n",
       "\n",
       "    .dataframe thead th {\n",
       "        text-align: right;\n",
       "    }\n",
       "</style>\n",
       "<table border=\"1\" class=\"dataframe\">\n",
       "  <thead>\n",
       "    <tr style=\"text-align: right;\">\n",
       "      <th></th>\n",
       "      <th>id</th>\n",
       "      <th>pass?</th>\n",
       "      <th>40hrs</th>\n",
       "    </tr>\n",
       "  </thead>\n",
       "  <tbody>\n",
       "    <tr>\n",
       "      <th>0</th>\n",
       "      <td>1</td>\n",
       "      <td>True</td>\n",
       "      <td>True</td>\n",
       "    </tr>\n",
       "    <tr>\n",
       "      <th>1</th>\n",
       "      <td>2</td>\n",
       "      <td>True</td>\n",
       "      <td>True</td>\n",
       "    </tr>\n",
       "    <tr>\n",
       "      <th>2</th>\n",
       "      <td>3</td>\n",
       "      <td>False</td>\n",
       "      <td>True</td>\n",
       "    </tr>\n",
       "    <tr>\n",
       "      <th>3</th>\n",
       "      <td>4</td>\n",
       "      <td>False</td>\n",
       "      <td>False</td>\n",
       "    </tr>\n",
       "    <tr>\n",
       "      <th>4</th>\n",
       "      <td>5</td>\n",
       "      <td>True</td>\n",
       "      <td>True</td>\n",
       "    </tr>\n",
       "    <tr>\n",
       "      <th>5</th>\n",
       "      <td>6</td>\n",
       "      <td>True</td>\n",
       "      <td>True</td>\n",
       "    </tr>\n",
       "    <tr>\n",
       "      <th>6</th>\n",
       "      <td>7</td>\n",
       "      <td>False</td>\n",
       "      <td>False</td>\n",
       "    </tr>\n",
       "    <tr>\n",
       "      <th>7</th>\n",
       "      <td>8</td>\n",
       "      <td>False</td>\n",
       "      <td>False</td>\n",
       "    </tr>\n",
       "    <tr>\n",
       "      <th>8</th>\n",
       "      <td>9</td>\n",
       "      <td>False</td>\n",
       "      <td>True</td>\n",
       "    </tr>\n",
       "    <tr>\n",
       "      <th>9</th>\n",
       "      <td>10</td>\n",
       "      <td>True</td>\n",
       "      <td>False</td>\n",
       "    </tr>\n",
       "  </tbody>\n",
       "</table>\n",
       "</div>"
      ],
      "text/plain": [
       "   id  pass?  40hrs\n",
       "0   1   True   True\n",
       "1   2   True   True\n",
       "2   3  False   True\n",
       "3   4  False  False\n",
       "4   5   True   True\n",
       "5   6   True   True\n",
       "6   7  False  False\n",
       "7   8  False  False\n",
       "8   9  False   True\n",
       "9  10   True  False"
      ]
     },
     "execution_count": 1,
     "metadata": {},
     "output_type": "execute_result"
    }
   ],
   "source": [
    "import pandas as pd\n",
    "\n",
    "ids = [1,2,3,4,5,6,7,8,9,10]\n",
    "passQ = [True, True, False, False, True, True, False, False, False, True]\n",
    "fortyHrs = [True, True, True, False, True, True, False, False, True, False]\n",
    "\n",
    "df = pd.DataFrame([ids, passQ, fortyHrs]).transpose()\n",
    "df.columns=[\"id\", \"pass?\", \"40hrs\"]\n",
    "df"
   ]
  },
  {
   "cell_type": "markdown",
   "metadata": {},
   "source": [
    "From here we can start to calculate some of our values:"
   ]
  },
  {
   "cell_type": "code",
   "execution_count": 2,
   "metadata": {},
   "outputs": [
    {
     "name": "stdout",
     "output_type": "stream",
     "text": [
      "Prior is 0.5\n",
      "Evidence is 0.6\n"
     ]
    }
   ],
   "source": [
    "# P(A)\n",
    "prior = 5 / 10 # five passes out of 10 students\n",
    "\n",
    "# P(B)\n",
    "evidence = 6 / 10 # six out of 10 students\n",
    "\n",
    "print(f'Prior is {round(prior, 1)}')\n",
    "print(f'Evidence is {round(evidence, 1)}')"
   ]
  },
  {
   "cell_type": "markdown",
   "metadata": {},
   "source": [
    "In terms of calculating the likelihood - $ P(B|A) $ - we need to consider the number of students for whom _40hrs_ and _pass?_ are both True, divided by the number of students who pass:"
   ]
  },
  {
   "cell_type": "code",
   "execution_count": 3,
   "metadata": {},
   "outputs": [
    {
     "name": "stdout",
     "output_type": "stream",
     "text": [
      "Likelihood is 0.8\n"
     ]
    }
   ],
   "source": [
    "ba = 0\n",
    "passed = 0\n",
    "\n",
    "# iterrows() allows us to basically for loop through a dataframe\n",
    "for index, row in df.iterrows():\n",
    "    if row['pass?'] == True:\n",
    "        passed += 1\n",
    "        if row['40hrs'] == True:\n",
    "            ba += 1\n",
    "            \n",
    "likelihood = ba / passed \n",
    "print(f'Likelihood is {round(likelihood, 1)}')"
   ]
  },
  {
   "cell_type": "markdown",
   "metadata": {},
   "source": [
    "In other words, if we know that a student passed there is an 80% chance they did 40 hours or more work.\n",
    "\n",
    "Now we can put it all together!"
   ]
  },
  {
   "cell_type": "code",
   "execution_count": 4,
   "metadata": {},
   "outputs": [
    {
     "name": "stdout",
     "output_type": "stream",
     "text": [
      "Posterior is 0.7\n"
     ]
    }
   ],
   "source": [
    "posterior = (likelihood * prior) / evidence \n",
    "print(f'Posterior is {round(posterior, 1)}')"
   ]
  },
  {
   "cell_type": "markdown",
   "metadata": {},
   "source": [
    "Awesome! However, this is a very much a toy example and actually we could have just directly counted the posterior in the same fashion as the likelihood:"
   ]
  },
  {
   "cell_type": "code",
   "execution_count": 5,
   "metadata": {},
   "outputs": [
    {
     "name": "stdout",
     "output_type": "stream",
     "text": [
      "Posterior is 0.7\n"
     ]
    }
   ],
   "source": [
    "ab = 0\n",
    "fortyHrs = 0\n",
    "\n",
    "# iterrows() allows us to basically for loop through a dataframe\n",
    "for index, row in df.iterrows():\n",
    "    if row['40hrs'] == True:\n",
    "        fortyHrs += 1\n",
    "        if row['pass?'] == True:\n",
    "            ab += 1\n",
    "            \n",
    "posterior = ab / fortyHrs \n",
    "print(f'Posterior is {round(posterior, 1)}')"
   ]
  },
  {
   "cell_type": "markdown",
   "metadata": {},
   "source": [
    "So what's the point? Well once we have the concepts we can start to think about calculating probability in a different way. Gather round for story time and we'll see this in action:"
   ]
  },
  {
   "cell_type": "markdown",
   "metadata": {},
   "source": [
    "## The Tale of the Student, the Supervisor, the Statistician and the Bayesian"
   ]
  },
  {
   "cell_type": "markdown",
   "metadata": {},
   "source": [
    "Our tale occurred several years ago here at WMG. A young student, let's call her Liping, had just completed her DSML PMA. She felt she had done quite well and really committed herself, however, in the 4x PMAs prior to this her results had been mixed and she currently averaged a merit. Unfortunately she had been spending a lot of time writing her food blog when she should have been writing, and had been a bit slapdash with her referencing. She was in a real quandary as to whether she would be able to achieve a distinction this time; on the one hand it felt like it had gone well, on the other that wasn't the current pattern. Young Liping sought some advice.\n",
    "\n",
    "First she turned to her dissertation supervisor, lets call him Mark. Mark asked Liping a bunch of questions about the process she had followed and asked her to give a score out of 10 for each. She thought about these questions and gave the following answers:"
   ]
  },
  {
   "cell_type": "code",
   "execution_count": 6,
   "metadata": {},
   "outputs": [
    {
     "name": "stdout",
     "output_type": "stream",
     "text": [
      "Mark said: \"You have a 0.9 chance of a distinction\"\n"
     ]
    }
   ],
   "source": [
    "understood_question = 9 / 10\n",
    "worked_hard = 10 / 10\n",
    "good_references = 9 / 10\n",
    "good_code = 8 / 10\n",
    "\n",
    "improve = (understood_question + worked_hard + good_references + good_code) / 4\n",
    "print(f'Mark said: \"You have a {round(improve,1)} chance of a distinction\"')"
   ]
  },
  {
   "cell_type": "markdown",
   "metadata": {},
   "source": [
    "Liping left the meeting feeling really good ... an 90% chance of distinction! However, she had this nagging doubt. Her record so far wasn't distinction level and as a good data person she didn't feel comfortable just ignoring the data. To try and assuage her doubts she went to see a friendly, local (traditional) statistician. Let's call him Vagelis. \n",
    "\n",
    "After Liping explained her problem, Vagelis did some research into past performance on the DSML module. After a bit of searching, Vagelis found the following datapoints:"
   ]
  },
  {
   "cell_type": "code",
   "execution_count": 7,
   "metadata": {},
   "outputs": [
    {
     "name": "stdout",
     "output_type": "stream",
     "text": [
      "Vagelis said \"There were 100 students and 18 distinctions.\n",
      "25 students improved to a new boundary, 2 of which improved to a distinction\"\n"
     ]
    }
   ],
   "source": [
    "students = 100\n",
    "distinctions = 18\n",
    "increased = 25\n",
    "increased2dist = 2\n",
    "\n",
    "print(f'Vagelis said \"There were {students} students and {distinctions} distinctions.\\n{increased} students improved to a new boundary, {increased2dist} of which improved to a distinction\"')"
   ]
  },
  {
   "cell_type": "markdown",
   "metadata": {},
   "source": [
    "Vagelis got out his pocket calculator and quickly asserted the following:"
   ]
  },
  {
   "cell_type": "code",
   "execution_count": 8,
   "metadata": {},
   "outputs": [
    {
     "name": "stdout",
     "output_type": "stream",
     "text": [
      "The probability of you getting a distinction is 0.02\n"
     ]
    }
   ],
   "source": [
    "print(f'The probability of you getting a distinction is {round(increased2dist / students, 2)}')"
   ]
  },
  {
   "cell_type": "markdown",
   "metadata": {},
   "source": [
    "Now Liping felt sad. But as much as she trusted Vagelis and his trusty pocket calculator she also felt that she was more than just her history and this PMA definitely felt different. More confused than ever she sought the advice of one more person ... a Bayesian statistician (let's call him Michael).\n",
    "\n",
    "Michael asked her what his colleagues had told her, and Liping shared their advice. Michael thanked her and quickly wrote up a Python program to answer her question. To help illustrate our story the original program he wrote is reproduced below:"
   ]
  },
  {
   "cell_type": "code",
   "execution_count": 9,
   "metadata": {},
   "outputs": [
    {
     "name": "stdout",
     "output_type": "stream",
     "text": [
      "The probability you will get a distinction is 0.72\n"
     ]
    }
   ],
   "source": [
    "# Liping's PMA predictor. Author Michael Mortenson, 10/02/2018\n",
    "prior = improve\n",
    "likelihood = increased2dist / distinctions\n",
    "\n",
    "# probability of improvement in all cases\n",
    "evidence = likelihood + (increased - increased2dist) / (students - distinctions) * (1 - prior) \n",
    "\n",
    "\n",
    "posterior = (likelihood * prior) / evidence \n",
    "print(f'The probability you will get a distinction is {round(posterior, 2)}')"
   ]
  },
  {
   "cell_type": "markdown",
   "metadata": {},
   "source": [
    "Liping was happy. She recognised that the Bayesian way allowed her to combine her personal expectations with the data (previous performances on the module) and give her a balance between them. And, dear reader, we do get a happy ending because she did indeed pass her PMA and the rest is history!"
   ]
  },
  {
   "cell_type": "markdown",
   "metadata": {},
   "source": [
    "## Statistical Note\n",
    "_Ultimately the problem Michael wanted to solve was: \n",
    "<br><br>\n",
    "$ \\huge P(distinction|improvement) = \\frac{P(improvement|distinction) ~ P(distinction)}{P(improvement)} $\n",
    "<br><br>\n",
    "This feels a little less intuitive than our earlier example so let's discuss it a bit more. When we think about the numerator then it is essentially, as the story tells us, a balance between the data (2 students achieved distinction having a lower average before out of 18 total distinctions) and her feeling about how this PMA process had gone (a 90% chance). That we define this as $ P(improvement|distinction) $ is to say that given the goal is distinction, how many students who achieve the distinction are ones for whom it is an improvement._ \n",
    "\n",
    "_The denominator also has something a bit different. As we know,_ $ P(B) $ _represents the probability of an improvement under all circumstances. That will include our numerator -_ ($ P(improvement|distinction) ~ P(distinction) $ - _but also the likelihood a student would improve if it wasn't a distinction (e.g. if a student improved from fail to pass or pass to merit). Consequently that is all improvements less those who improved to distinctions, out of all results less those that achieved distinction. We would represent this as follows: $ P(B|A') ~ P(A') $ or, $ P(improvement|not\\_distinction) ~ P(not\\_distinction) $. In this case we represent $ P(not\\_distinction) $ as $ 1 - P(A) $._"
   ]
  },
  {
   "cell_type": "markdown",
   "metadata": {},
   "source": [
    "## The Moral of the Story \n",
    "This gives us one of the main advantages of a Bayesian approach over the alternative, traditional approach ... typically called \"frequentist\" by Bayesians as it is based on assigning probabilities purely on the frequency of events. In the Bayesian calculation we can include some prior belief about the likelihood of an event which is combined with the frequencies in the data. \n",
    "\n",
    "Given that we know all datasets are incomplete and that all datasets contain error, we can see why not solely relying on our historical data can be an attractive thing. Secondly, as William Bruce Cameron said:\n",
    ">Not everything that can be counted counts, and not everything that counts can be counted.\n",
    "\n",
    "Very often there is good insight that is only available as \"soft data\" rather \"hard\". That is, the data doesn't come to us from a database or Excel spreadsheet but from the \"beliefs\" of subject matter experts.\n",
    "\n",
    "However, Bayesian analyses can offer much more than this, as well see in part two where we look at the application of these methods to distributions of data rather than single values."
   ]
  }
 ],
 "metadata": {
  "kernelspec": {
   "display_name": "Python 3",
   "language": "python",
   "name": "python3"
  },
  "language_info": {
   "codemirror_mode": {
    "name": "ipython",
    "version": 3
   },
   "file_extension": ".py",
   "mimetype": "text/x-python",
   "name": "python",
   "nbconvert_exporter": "python",
   "pygments_lexer": "ipython3",
   "version": "3.8.3"
  }
 },
 "nbformat": 4,
 "nbformat_minor": 4
}
